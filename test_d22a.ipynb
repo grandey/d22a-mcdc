{
 "cells": [
  {
   "cell_type": "markdown",
   "source": [
    "## test_d22.ipynb\n",
    "Test functions contained in d22a.py.\n",
    "\n",
    "Author: Benjamin S. Grandey, 2023."
   ],
   "metadata": {
    "collapsed": false
   }
  },
  {
   "cell_type": "code",
   "execution_count": 1,
   "outputs": [],
   "source": [
    "import d22a\n",
    "import datetime"
   ],
   "metadata": {
    "collapsed": false,
    "ExecuteTime": {
     "end_time": "2023-07-05T07:47:22.109540Z",
     "start_time": "2023-07-05T07:47:22.100923Z"
    }
   }
  },
  {
   "cell_type": "code",
   "execution_count": 2,
   "outputs": [],
   "source": [
    "# Get start datetime\n",
    "start_dt = datetime.datetime.now()"
   ],
   "metadata": {
    "collapsed": false,
    "ExecuteTime": {
     "end_time": "2023-07-05T07:47:22.112529Z",
     "start_time": "2023-07-05T07:47:22.109820Z"
    }
   }
  },
  {
   "cell_type": "code",
   "execution_count": 3,
   "outputs": [
    {
     "name": "stdout",
     "output_type": "stream",
     "text": [
      "Python implementation: CPython\n",
      "Python version       : 3.10.12\n",
      "IPython version      : 8.14.0\n",
      "\n",
      "matplotlib : 3.5.3\n",
      "numpy      : 1.25.0\n",
      "pandas     : 2.0.3\n",
      "scipy      : 1.11.1\n",
      "seaborn    : 0.12.2\n",
      "statsmodels: 0.14.0\n",
      "xarray     : 2023.6.0\n",
      "\n",
      "conda environment: d22a-mcdc\n",
      "\n",
      "Compiler    : Clang 15.0.7 \n",
      "OS          : Darwin\n",
      "Release     : 22.5.0\n",
      "Machine     : arm64\n",
      "Processor   : arm\n",
      "CPU cores   : 8\n",
      "Architecture: 64bit\n",
      "\n"
     ]
    }
   ],
   "source": [
    "print(d22a.get_watermark())"
   ],
   "metadata": {
    "collapsed": false,
    "ExecuteTime": {
     "end_time": "2023-07-05T07:47:22.164462Z",
     "start_time": "2023-07-05T07:47:22.114063Z"
    }
   }
  },
  {
   "cell_type": "code",
   "execution_count": 4,
   "outputs": [
    {
     "name": "stdout",
     "output_type": "stream",
     "text": [
      "Start:     2023-07-05 15:47:22\n",
      "End:       2023-07-05 15:47:22\n",
      "Wall time: 0 s\n"
     ]
    }
   ],
   "source": [
    "# Get end datetime\n",
    "end_dt = datetime.datetime.now()\n",
    "# Calculate run timedelta\n",
    "run_td = end_dt - start_dt\n",
    "# Print timing information\n",
    "print(f\"Start:     {start_dt.strftime('%Y-%m-%d %H:%M:%S')}\")\n",
    "print(f\"End:       {end_dt.strftime('%Y-%m-%d %H:%M:%S')}\")\n",
    "print(f\"Wall time: {run_td.seconds} s\")"
   ],
   "metadata": {
    "collapsed": false,
    "ExecuteTime": {
     "end_time": "2023-07-05T07:47:22.167693Z",
     "start_time": "2023-07-05T07:47:22.166186Z"
    }
   }
  }
 ],
 "metadata": {
  "kernelspec": {
   "name": "conda-env-d22a-mcdc-py",
   "language": "python",
   "display_name": "Python [conda env:d22a-mcdc]"
  },
  "language_info": {
   "codemirror_mode": {
    "name": "ipython",
    "version": 2
   },
   "file_extension": ".py",
   "mimetype": "text/x-python",
   "name": "python",
   "nbconvert_exporter": "python",
   "pygments_lexer": "ipython2",
   "version": "2.7.6"
  }
 },
 "nbformat": 4,
 "nbformat_minor": 0
}
