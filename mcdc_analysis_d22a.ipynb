{
 "cells": [
  {
   "cell_type": "markdown",
   "id": "063ead3a-3833-45f5-a4ea-0724f4b39ce6",
   "metadata": {},
   "source": [
    "# mcdc_analysis_d22a\n",
    "\n",
    "## Purpose\n",
    "Using Monte Carlo Drift Correction (MCDC), analyse data produced by [data_d22a.ipynb](https://github.com/grandey/d22a-mcdc/blob/main/data_d22a.ipynb), including production of figures and tables.\n",
    "\n",
    "## Input data requirements\n",
    "NetCDF files in [data/](https://github.com/grandey/d22a-mcdc/tree/main/data/) (produced by [data_d22a.ipynb](https://github.com/grandey/d22a-mcdc/blob/main/data_d22a.ipynb)), each containing a global mean time series for a given variable, AOGCM variant, and CMIP6 experiment.\n",
    "\n",
    "## Output files written\n",
    "Figures (TODO) and tables (TODO).\n",
    "\n",
    "## History\n",
    "BSG, 2022."
   ]
  },
  {
   "cell_type": "code",
   "execution_count": 1,
   "id": "c40cb6cf-7c6d-474f-88ad-8b18ced4fa03",
   "metadata": {},
   "outputs": [
    {
     "name": "stdout",
     "output_type": "stream",
     "text": [
      "Fri Aug 12 17:31:01 +08 2022\n"
     ]
    }
   ],
   "source": [
    "! date"
   ]
  },
  {
   "cell_type": "code",
   "execution_count": 2,
   "id": "00885783-072d-446e-9c16-7c7142a5af6c",
   "metadata": {},
   "outputs": [],
   "source": [
    "from functools import cache\n",
    "import itertools\n",
    "import math\n",
    "import matplotlib.pyplot as plt\n",
    "import numpy as np\n",
    "import pandas as pd\n",
    "import pathlib\n",
    "from scipy import stats\n",
    "import statsmodels.api as sm\n",
    "import xarray as xr"
   ]
  },
  {
   "cell_type": "code",
   "execution_count": 3,
   "id": "06c4b89e-c4a2-4828-bc12-94114c9e9d22",
   "metadata": {},
   "outputs": [],
   "source": [
    "# Matplotlib settings\n",
    "%matplotlib inline\n",
    "plt.rcParams['savefig.dpi'] = 300"
   ]
  },
  {
   "cell_type": "code",
   "execution_count": 4,
   "id": "51b71f3c-c030-499a-a137-598a697574ec",
   "metadata": {},
   "outputs": [
    {
     "name": "stdout",
     "output_type": "stream",
     "text": [
      "xarray: 2022.6.0\n",
      "numpy: 1.23.1\n",
      "pandas: 1.4.3\n",
      "statsmodels.api: 0.13.2\n",
      "xarray: 2022.6.0\n"
     ]
    }
   ],
   "source": [
    "# Package versions\n",
    "for p in [xr, np, pd, sm, xr]:\n",
    "    print(f'{p.__name__}: {p.__version__}')"
   ]
  },
  {
   "cell_type": "code",
   "execution_count": 5,
   "id": "fd637c4d-5cca-42f4-a700-187e38031645",
   "metadata": {},
   "outputs": [
    {
     "data": {
      "text/plain": [
       "Generator(PCG64) at 0x16E5BB220"
      ]
     },
     "execution_count": 5,
     "metadata": {},
     "output_type": "execute_result"
    }
   ],
   "source": [
    "# Random number generator\n",
    "rng = np.random.default_rng(12345)\n",
    "rng"
   ]
  },
  {
   "cell_type": "code",
   "execution_count": 6,
   "id": "5d2324bc-0455-4ac8-bb8a-369b80130d96",
   "metadata": {},
   "outputs": [
    {
     "name": "stdout",
     "output_type": "stream",
     "text": [
      "Fri Aug 12 17:31:02 +08 2022\n"
     ]
    }
   ],
   "source": [
    "! date"
   ]
  }
 ],
 "metadata": {
  "kernelspec": {
   "display_name": "Python 3 (ipykernel)",
   "language": "python",
   "name": "python3"
  },
  "language_info": {
   "codemirror_mode": {
    "name": "ipython",
    "version": 3
   },
   "file_extension": ".py",
   "mimetype": "text/x-python",
   "name": "python",
   "nbconvert_exporter": "python",
   "pygments_lexer": "ipython3",
   "version": "3.10.5"
  }
 },
 "nbformat": 4,
 "nbformat_minor": 5
}
