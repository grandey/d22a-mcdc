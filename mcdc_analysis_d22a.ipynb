{
 "cells": [
  {
   "cell_type": "markdown",
   "id": "063ead3a-3833-45f5-a4ea-0724f4b39ce6",
   "metadata": {},
   "source": [
    "# mcdc_analysis_d22a\n",
    "\n",
    "## Purpose\n",
    "Using Monte Carlo Drift Correction (MCDC), analyse data produced by [data_d22a.ipynb](https://github.com/grandey/d22a-mcdc/blob/main/data_d22a.ipynb), including production of figures and tables.\n",
    "\n",
    "## Input data requirements\n",
    "NetCDF files in [data/](https://github.com/grandey/d22a-mcdc/tree/main/data/) (produced by [data_d22a.ipynb](https://github.com/grandey/d22a-mcdc/blob/main/data_d22a.ipynb)), each containing a global mean time series for a given variable, AOGCM variant, and CMIP6 experiment.\n",
    "\n",
    "## Output files written\n",
    "Figures (TODO) and tables (TODO).\n",
    "\n",
    "## History\n",
    "BSG, 2022."
   ]
  },
  {
   "cell_type": "code",
   "execution_count": 1,
   "id": "c40cb6cf-7c6d-474f-88ad-8b18ced4fa03",
   "metadata": {},
   "outputs": [
    {
     "name": "stdout",
     "output_type": "stream",
     "text": [
      "Mon Aug 15 17:04:44 +08 2022\n"
     ]
    }
   ],
   "source": [
    "! date"
   ]
  },
  {
   "cell_type": "code",
   "execution_count": 2,
   "id": "00885783-072d-446e-9c16-7c7142a5af6c",
   "metadata": {},
   "outputs": [],
   "source": [
    "from functools import cache\n",
    "import itertools\n",
    "import math\n",
    "import matplotlib.pyplot as plt\n",
    "import numpy as np\n",
    "import pandas as pd\n",
    "import pathlib\n",
    "from scipy import stats\n",
    "import statsmodels.api as sm\n",
    "import xarray as xr"
   ]
  },
  {
   "cell_type": "code",
   "execution_count": 3,
   "id": "06c4b89e-c4a2-4828-bc12-94114c9e9d22",
   "metadata": {},
   "outputs": [],
   "source": [
    "# Matplotlib settings\n",
    "%matplotlib inline\n",
    "plt.rcParams['savefig.dpi'] = 300"
   ]
  },
  {
   "cell_type": "code",
   "execution_count": 4,
   "id": "51b71f3c-c030-499a-a137-598a697574ec",
   "metadata": {},
   "outputs": [
    {
     "name": "stdout",
     "output_type": "stream",
     "text": [
      "xarray: 2022.6.0\n",
      "numpy: 1.23.1\n",
      "pandas: 1.4.3\n",
      "statsmodels.api: 0.13.2\n",
      "xarray: 2022.6.0\n"
     ]
    }
   ],
   "source": [
    "# Package versions\n",
    "for p in [xr, np, pd, sm, xr]:\n",
    "    print(f'{p.__name__}: {p.__version__}')"
   ]
  },
  {
   "cell_type": "code",
   "execution_count": 5,
   "id": "fd637c4d-5cca-42f4-a700-187e38031645",
   "metadata": {},
   "outputs": [
    {
     "data": {
      "text/plain": [
       "Generator(PCG64) at 0x16E09F220"
      ]
     },
     "execution_count": 5,
     "metadata": {},
     "output_type": "execute_result"
    }
   ],
   "source": [
    "# Random number generator\n",
    "rng = np.random.default_rng(12345)\n",
    "rng"
   ]
  },
  {
   "cell_type": "markdown",
   "id": "9d945729-4214-4d51-8aad-5280c0c59166",
   "metadata": {},
   "source": [
    "## Identify AOGCM variants (source-member pairs)\n",
    "Note: the AOGCM variants identified should match those identified by data_d22a.ipynb."
   ]
  },
  {
   "cell_type": "code",
   "execution_count": 6,
   "id": "3900e577-986a-4678-aea8-1ca48835df95",
   "metadata": {},
   "outputs": [
    {
     "name": "stdout",
     "output_type": "stream",
     "text": [
      "20 source-member pairs identified.\n"
     ]
    },
    {
     "data": {
      "text/plain": [
       "['ACCESS-CM2_r1i1p1f1',\n",
       " 'ACCESS-ESM1-5_r1i1p1f1',\n",
       " 'CMCC-CM2-SR5_r1i1p1f1',\n",
       " 'CMCC-ESM2_r1i1p1f1',\n",
       " 'CNRM-CM6-1_r1i1p1f2',\n",
       " 'CNRM-ESM2-1_r1i1p1f2',\n",
       " 'CanESM5_r1i1p1f1',\n",
       " 'EC-Earth3-Veg-LR_r1i1p1f1',\n",
       " 'EC-Earth3-Veg_r1i1p1f1',\n",
       " 'EC-Earth3_r1i1p1f1',\n",
       " 'GISS-E2-1-G_r1i1p5f1',\n",
       " 'GISS-E2-1-H_r1i1p1f2',\n",
       " 'IPSL-CM6A-LR_r1i1p1f1',\n",
       " 'MIROC6_r1i1p1f1',\n",
       " 'MPI-ESM1-2-HR_r1i1p1f1',\n",
       " 'MPI-ESM1-2-LR_r1i1p1f1',\n",
       " 'MRI-ESM2-0_r1i1p1f1',\n",
       " 'NorESM2-LM_r1i1p1f1',\n",
       " 'NorESM2-MM_r1i1p1f1',\n",
       " 'UKESM1-0-LL_r1i1p1f2']"
      ]
     },
     "execution_count": 6,
     "metadata": {},
     "output_type": "execute_result"
    }
   ],
   "source": [
    "# Location of data produced by data_d22a.ipynb\n",
    "in_base = pathlib.Path.cwd() / 'data' / 'regrid_missto0_yearmean_fldmean_mergetime'\n",
    "\n",
    "# Core variables required\n",
    "core_var_list = ['rsdt', 'rsut', 'rlut', # R = rsdt-rsut-rlut\n",
    "                 'hfds',  # H (without flux correction)\n",
    "                 'zostoga']  # Z\n",
    "\n",
    "# Experiments required (with corresponding names, used for figs later)\n",
    "exp_dict = {'piControl': 'Control', 'historical': 'Historical',\n",
    "            'ssp126': 'SSP1-2.6', 'ssp245': 'SSP2-4.5',\n",
    "            'ssp370': 'SSP3-7.0', 'ssp585': 'SSP5-8.5'}\n",
    "\n",
    "# Identify source-member pairs to use\n",
    "source_member_list = sorted([d.name for d in in_base.glob(f'rsdt/[!.]*_*')])  # this list will be reduced\n",
    "for source_member in source_member_list.copy():  # loop over copy of source-member pairs to check data availability\n",
    "    for var in core_var_list:  # loop over required variables\n",
    "        for exp in exp_dict.keys():  # loop over experiments\n",
    "            in_fns = sorted(in_base.glob(f'{var}/{source_member}/{var}_{source_member}_{exp}.mergetime.nc'))\n",
    "            if len(in_fns) == 0:  # if input file for this experiment does not exist...\n",
    "                try:\n",
    "                    source_member_list.remove(source_member)  # ... do not use this source-member pair\n",
    "                except ValueError:  # when source-member pair has previously been removed\n",
    "                    pass\n",
    "\n",
    "print(f'{len(source_member_list)} source-member pairs identified.')\n",
    "source_member_list"
   ]
  },
  {
   "cell_type": "code",
   "execution_count": 7,
   "id": "b21cf971-c93c-49aa-bd55-ea065901400e",
   "metadata": {},
   "outputs": [
    {
     "name": "stdout",
     "output_type": "stream",
     "text": [
      "Mon Aug 15 17:04:45 +08 2022\n"
     ]
    }
   ],
   "source": [
    "! date"
   ]
  }
 ],
 "metadata": {
  "kernelspec": {
   "display_name": "Python 3 (ipykernel)",
   "language": "python",
   "name": "python3"
  },
  "language_info": {
   "codemirror_mode": {
    "name": "ipython",
    "version": 3
   },
   "file_extension": ".py",
   "mimetype": "text/x-python",
   "name": "python",
   "nbconvert_exporter": "python",
   "pygments_lexer": "ipython3",
   "version": "3.10.5"
  }
 },
 "nbformat": 4,
 "nbformat_minor": 5
}
