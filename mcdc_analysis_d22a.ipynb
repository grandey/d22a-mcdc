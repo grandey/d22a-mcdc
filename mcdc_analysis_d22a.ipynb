{
 "cells": [
  {
   "cell_type": "markdown",
   "id": "063ead3a-3833-45f5-a4ea-0724f4b39ce6",
   "metadata": {},
   "source": [
    "# mcdc_analysis_d22a\n",
    "\n",
    "## Purpose\n",
    "Using Monte Carlo Drift Correction (MCDC), analyse data produced by [data_d22a.ipynb](https://github.com/grandey/d22a-mcdc/blob/main/data_d22a.ipynb), including production of figures and tables.\n",
    "\n",
    "## Input data requirements\n",
    "NetCDF files in [data/](https://github.com/grandey/d22a-mcdc/tree/main/data/) (produced by [data_d22a.ipynb](https://github.com/grandey/d22a-mcdc/blob/main/data_d22a.ipynb)), each containing a global mean time series for a given variable, AOGCM variant, and CMIP6 experiment.\n",
    "\n",
    "## Output files written\n",
    "Figures (TODO) and tables (TODO).\n",
    "\n",
    "## History\n",
    "BSG, 2022."
   ]
  },
  {
   "cell_type": "code",
   "execution_count": 1,
   "id": "c40cb6cf-7c6d-474f-88ad-8b18ced4fa03",
   "metadata": {},
   "outputs": [
    {
     "name": "stdout",
     "output_type": "stream",
     "text": [
      "Mon Aug 15 17:33:19 +08 2022\n"
     ]
    }
   ],
   "source": [
    "! date"
   ]
  },
  {
   "cell_type": "code",
   "execution_count": 2,
   "id": "00885783-072d-446e-9c16-7c7142a5af6c",
   "metadata": {},
   "outputs": [],
   "source": [
    "from functools import cache\n",
    "import itertools\n",
    "import math\n",
    "import matplotlib.pyplot as plt\n",
    "import numpy as np\n",
    "import pandas as pd\n",
    "import pathlib\n",
    "from scipy import stats\n",
    "import statsmodels.api as sm\n",
    "import xarray as xr"
   ]
  },
  {
   "cell_type": "code",
   "execution_count": 3,
   "id": "06c4b89e-c4a2-4828-bc12-94114c9e9d22",
   "metadata": {},
   "outputs": [],
   "source": [
    "# Matplotlib settings\n",
    "%matplotlib inline\n",
    "plt.rcParams['savefig.dpi'] = 300"
   ]
  },
  {
   "cell_type": "code",
   "execution_count": 4,
   "id": "51b71f3c-c030-499a-a137-598a697574ec",
   "metadata": {},
   "outputs": [
    {
     "name": "stdout",
     "output_type": "stream",
     "text": [
      "xarray: 2022.6.0\n",
      "numpy: 1.23.1\n",
      "pandas: 1.4.3\n",
      "statsmodels.api: 0.13.2\n",
      "xarray: 2022.6.0\n"
     ]
    }
   ],
   "source": [
    "# Package versions\n",
    "for p in [xr, np, pd, sm, xr]:\n",
    "    print(f'{p.__name__}: {p.__version__}')"
   ]
  },
  {
   "cell_type": "code",
   "execution_count": 5,
   "id": "fd637c4d-5cca-42f4-a700-187e38031645",
   "metadata": {},
   "outputs": [
    {
     "data": {
      "text/plain": [
       "Generator(PCG64) at 0x16BD7F220"
      ]
     },
     "execution_count": 5,
     "metadata": {},
     "output_type": "execute_result"
    }
   ],
   "source": [
    "# Random number generator\n",
    "rng = np.random.default_rng(12345)\n",
    "rng"
   ]
  },
  {
   "cell_type": "markdown",
   "id": "9d945729-4214-4d51-8aad-5280c0c59166",
   "metadata": {},
   "source": [
    "## Identify AOGCM variants (source-member pairs)\n",
    "Note: the AOGCM variants identified should match those identified by data_d22a.ipynb."
   ]
  },
  {
   "cell_type": "code",
   "execution_count": 6,
   "id": "3900e577-986a-4678-aea8-1ca48835df95",
   "metadata": {},
   "outputs": [
    {
     "name": "stdout",
     "output_type": "stream",
     "text": [
      "20 source-member pairs identified.\n"
     ]
    },
    {
     "data": {
      "text/plain": [
       "['ACCESS-CM2_r1i1p1f1',\n",
       " 'ACCESS-ESM1-5_r1i1p1f1',\n",
       " 'CMCC-CM2-SR5_r1i1p1f1',\n",
       " 'CMCC-ESM2_r1i1p1f1',\n",
       " 'CNRM-CM6-1_r1i1p1f2',\n",
       " 'CNRM-ESM2-1_r1i1p1f2',\n",
       " 'CanESM5_r1i1p1f1',\n",
       " 'EC-Earth3-Veg-LR_r1i1p1f1',\n",
       " 'EC-Earth3-Veg_r1i1p1f1',\n",
       " 'EC-Earth3_r1i1p1f1',\n",
       " 'GISS-E2-1-G_r1i1p5f1',\n",
       " 'GISS-E2-1-H_r1i1p1f2',\n",
       " 'IPSL-CM6A-LR_r1i1p1f1',\n",
       " 'MIROC6_r1i1p1f1',\n",
       " 'MPI-ESM1-2-HR_r1i1p1f1',\n",
       " 'MPI-ESM1-2-LR_r1i1p1f1',\n",
       " 'MRI-ESM2-0_r1i1p1f1',\n",
       " 'NorESM2-LM_r1i1p1f1',\n",
       " 'NorESM2-MM_r1i1p1f1',\n",
       " 'UKESM1-0-LL_r1i1p1f2']"
      ]
     },
     "execution_count": 6,
     "metadata": {},
     "output_type": "execute_result"
    }
   ],
   "source": [
    "# Location of data produced by data_d22a.ipynb\n",
    "in_base = pathlib.Path.cwd() / 'data' / 'regrid_missto0_yearmean_fldmean_mergetime'\n",
    "\n",
    "# Core variables required\n",
    "core_var_list = ['rsdt', 'rsut', 'rlut', # R = rsdt-rsut-rlut\n",
    "                 'hfds',  # H (without flux correction)\n",
    "                 'zostoga']  # Z\n",
    "\n",
    "# Experiments required (with corresponding names, used for figs later)\n",
    "exp_dict = {'piControl': 'Control', 'historical': 'Historical',\n",
    "            'ssp126': 'SSP1-2.6', 'ssp245': 'SSP2-4.5',\n",
    "            'ssp370': 'SSP3-7.0', 'ssp585': 'SSP5-8.5'}\n",
    "\n",
    "# Identify source-member pairs to use\n",
    "source_member_list = sorted([d.name for d in in_base.glob(f'rsdt/[!.]*_*')])  # this list will be reduced\n",
    "for source_member in source_member_list.copy():  # loop over copy of source-member pairs to check data availability\n",
    "    for var in core_var_list:  # loop over required variables\n",
    "        for exp in exp_dict.keys():  # loop over experiments\n",
    "            #in_fns = sorted(in_base.glob(f'{var}/{source_member}/{var}_{source_member}_{exp}.mergetime.nc'))\n",
    "            in_fn = in_base.joinpath(f'{var}/{source_member}/{var}_{source_member}_{exp}.mergetime.nc')\n",
    "            if not in_fn.is_file():  # if input file for this experiment does not exist...\n",
    "                try:\n",
    "                    source_member_list.remove(source_member)  # ... do not use this source-member pair\n",
    "                except ValueError:  # when source-member pair has previously been removed\n",
    "                    pass\n",
    "\n",
    "print(f'{len(source_member_list)} source-member pairs identified.')\n",
    "source_member_list"
   ]
  },
  {
   "cell_type": "markdown",
   "id": "d07f8c6e-a0a4-4d7f-8394-acb36dab6ef0",
   "metadata": {},
   "source": [
    "## Read input data"
   ]
  },
  {
   "cell_type": "code",
   "execution_count": 7,
   "id": "50f79f6e-1267-44d2-bd0f-642e49dcf654",
   "metadata": {},
   "outputs": [
    {
     "name": "stdout",
     "output_type": "stream",
     "text": [
      "in_da_dict contains 606 DataArrays\n",
      "CPU times: user 1.56 s, sys: 57.7 ms, total: 1.61 s\n",
      "Wall time: 1.74 s\n"
     ]
    }
   ],
   "source": [
    "%%time\n",
    "# Dictionary to hold input DataArrays\n",
    "in_da_dict = {}  # keys will be tuples of (source_member, exp, var)\n",
    "\n",
    "# List of input data variables \n",
    "in_var_list = ['rsdt', 'rsut', 'rlut',  # R = rsdt-rsut-rlut\n",
    "               'hfds',  # H (without flux correction)\n",
    "               'hfcorr',  # flux correction, available for very few source-member pairs\n",
    "               'zostoga']  # Z\n",
    "\n",
    "# Loop over source-member pairs, experiments, and variables\n",
    "for source_member in source_member_list:\n",
    "    for exp in exp_dict.keys():\n",
    "        for var in in_var_list:\n",
    "            # Read input data (if they exist)\n",
    "            in_fn = in_base.joinpath(f'{var}/{source_member}/{var}_{source_member}_{exp}.mergetime.nc')\n",
    "            try:\n",
    "                in_ds = xr.open_dataset(in_fn)  # Dataset\n",
    "                in_da = in_ds[var]  # DataArray\n",
    "                # Remove degenerate lon and lat dimensions\n",
    "                in_da = in_da.squeeze()\n",
    "                # Convert time units to year\n",
    "                in_da['time'] = (in_da['time'] // 1e4).astype(int)\n",
    "                in_da['time'].attrs['units'] = 'a'\n",
    "                # Convert zostoga units to mm\n",
    "                if var == 'zostoga':\n",
    "                    in_da.data = in_da.data * 1e3\n",
    "                    in_da.attrs['units'] = 'mm'\n",
    "                # Check: do data have non-zero values?\n",
    "                if (in_da**2).sum() == 0:\n",
    "                    print(f'Skipping {source_member} {exp} {var} (no non-zero values)')\n",
    "                else:\n",
    "                    # Save to dictionary\n",
    "                    in_da_dict[(source_member, exp, var)] = in_da\n",
    "            except FileNotFoundError:\n",
    "                pass\n",
    "\n",
    "print(f'in_da_dict contains {len(in_da_dict)} DataArrays')"
   ]
  },
  {
   "cell_type": "markdown",
   "id": "532fe257-f41e-41f7-b723-61620689d93a",
   "metadata": {},
   "source": [
    "## Basic processing of input data"
   ]
  },
  {
   "cell_type": "code",
   "execution_count": 8,
   "id": "57847362-7975-405b-bdda-56de96a9b28c",
   "metadata": {},
   "outputs": [
    {
     "name": "stdout",
     "output_type": "stream",
     "text": [
      "IPSL-CM6A-LR_r1i1p1f1 piControl hfds had missing years; using period before gap; length 1800 -> 1000.\n"
     ]
    }
   ],
   "source": [
    "# Are there any gaps (missing years) in the data coverage?\n",
    "for source_member in source_member_list:\n",
    "    for exp in exp_dict.keys():\n",
    "        for var in in_var_list:\n",
    "            try:\n",
    "                in_da = in_da_dict[(source_member, exp, var)]\n",
    "                # Is the interval betweeen successive time coords always 1 year?\n",
    "                intervals = in_da.time.data[1:] - in_da.time.data[:-1]\n",
    "                if not np.all(intervals == 1):\n",
    "                    # If a gap is found, limit to period before gap\n",
    "                    gap_i = int(np.where(intervals != 1)[0])  # identify first gap\n",
    "                    gap_yr = in_da.time.data[gap_i]  # final year before gap\n",
    "                    len_old = len(in_da)  # old length\n",
    "                    in_da = in_da.where(in_da.time <= gap_yr, drop=True)  # limit data\n",
    "                    in_da_dict[(source_member, exp, var)] = in_da  # update dict\n",
    "                    len_new = len(in_da)  # new length\n",
    "                    print(f'{source_member} {exp} {var} had missing years; using period before gap; '\n",
    "                          f'length {len_old} -> {len_new}.')\n",
    "            except KeyError:\n",
    "                pass"
   ]
  },
  {
   "cell_type": "code",
   "execution_count": 9,
   "id": "b2ba0ab8-5c8d-42cd-af56-da26b0ea4f97",
   "metadata": {},
   "outputs": [
    {
     "name": "stdout",
     "output_type": "stream",
     "text": [
      "CanESM5_r1i1p1f1 ssp585 has inconsistent time coord\n",
      "  End years differ: [2300, 2300, 2300, 2300, 2180]\n",
      "  Limiting to shared period of 1850-2180 (331 years)\n",
      "EC-Earth3-Veg_r1i1p1f1 piControl has inconsistent time coord\n",
      "  End years differ: [3849, 3849, 3849, 2349, 2349]\n",
      "  Limiting to shared period of 1850-2349 (500 years)\n",
      "IPSL-CM6A-LR_r1i1p1f1 piControl has inconsistent time coord\n",
      "  End years differ: [3849, 3849, 3849, 2849, 3849]\n",
      "  Limiting to shared period of 1850-2849 (1000 years)\n",
      "MIROC6_r1i1p1f1 piControl has inconsistent time coord\n",
      "  End years differ: [3999, 3999, 3999, 3699, 3999]\n",
      "  Limiting to shared period of 3200-3699 (500 years)\n",
      "UKESM1-0-LL_r1i1p1f2 piControl has inconsistent time coord\n",
      "  End years differ: [3839, 3839, 3839, 3839, 3059]\n",
      "  Limiting to shared period of 1960-3059 (1100 years)\n"
     ]
    }
   ],
   "source": [
    "# For a given source-member and experiment, is the time coverage consistent between core variables?\n",
    "for source_member in source_member_list:\n",
    "    for exp in exp_dict.keys():\n",
    "        try:\n",
    "            # Time coords for primary variables of interest\n",
    "            time1 = in_da_dict[(source_member, exp, 'rsdt')].time.data\n",
    "            time2 = in_da_dict[(source_member, exp, 'rsut')].time.data\n",
    "            time3 = in_da_dict[(source_member, exp, 'rlut')].time.data\n",
    "            time4 = in_da_dict[(source_member, exp, 'hfds')].time.data\n",
    "            time5 = in_da_dict[(source_member, exp, 'zostoga')].time.data\n",
    "            # Are the time coords the same?\n",
    "            if not (np.array_equal(time1, time2) and np.array_equal(time1, time3) and\n",
    "                    np.array_equal(time1, time4) and np.array_equal(time1, time5)):\n",
    "                print(f'{source_member} {exp} has inconsistent time coord')\n",
    "                # Are the start years the same?\n",
    "                start_list = [t[0] for t in [time1, time2, time3, time4, time5]]\n",
    "                if len(set(start_list)) > 1:\n",
    "                    print(f'  Start years differ: {start_list}')\n",
    "                start_max = max(start_list)  # earliest year available for all\n",
    "                # Are the end years the same?\n",
    "                end_list = [t[-1] for t in [time1, time2, time3, time4, time5]]\n",
    "                if len(set(end_list)) > 1:\n",
    "                    print(f'  End years differ: {end_list}')\n",
    "                end_min = min(end_list)  # latest year availabe for all\n",
    "                # Limit to shared period\n",
    "                print(f'  Limiting to shared period of {start_max}-{end_min} ({end_min-start_max+1} years)')\n",
    "                for var in in_var_list:  # limit time coord for all variables (including hfcorr)\n",
    "                    try:\n",
    "                        in_da = in_da_dict[(source_member, exp, var)]\n",
    "                        in_da = in_da.where((in_da.time >= start_max) & (in_da.time <= end_min), drop=True)\n",
    "                        in_da_dict[(source_member, exp, var)] = in_da\n",
    "                    except KeyError:\n",
    "                        pass\n",
    "        except KeyError:\n",
    "            pass"
   ]
  },
  {
   "cell_type": "code",
   "execution_count": 10,
   "id": "cba54b84-d1ce-490c-9430-834be49b00d3",
   "metadata": {},
   "outputs": [],
   "source": [
    "# Shift PI control start year to 1 (arbitrary)\n",
    "for source_member in source_member_list:\n",
    "    for var in in_var_list:\n",
    "        try:\n",
    "            in_da = in_da_dict[(source_member, 'piControl', var)]\n",
    "            in_da['time'] = in_da['time'] - in_da['time'][0] + 1  # shift\n",
    "        except IndexError:\n",
    "            print('IndexError encountered:', source_member, var, in_da)\n",
    "        except KeyError:\n",
    "            pass"
   ]
  },
  {
   "cell_type": "code",
   "execution_count": 11,
   "id": "bc7de0ef-037f-46a5-93f0-ebaa728d2b44",
   "metadata": {},
   "outputs": [
    {
     "name": "stdout",
     "output_type": "stream",
     "text": [
      "ACCESS-CM2_r1i1p1f1 piControl has 500 years\n",
      "ACCESS-ESM1-5_r1i1p1f1 piControl has 1000 years\n",
      "CMCC-CM2-SR5_r1i1p1f1 piControl has 500 years\n",
      "CMCC-ESM2_r1i1p1f1 piControl has 500 years\n",
      "CNRM-CM6-1_r1i1p1f2 piControl has 500 years\n",
      "CNRM-ESM2-1_r1i1p1f2 piControl has 500 years\n",
      "CanESM5_r1i1p1f1 piControl has 1000 years\n",
      "EC-Earth3-Veg-LR_r1i1p1f1 piControl has 501 years\n",
      "EC-Earth3-Veg_r1i1p1f1 piControl has 500 years\n",
      "EC-Earth3_r1i1p1f1 piControl has 501 years\n",
      "GISS-E2-1-G_r1i1p5f1 piControl has 201 years\n",
      "GISS-E2-1-H_r1i1p1f2 piControl has 451 years\n",
      "IPSL-CM6A-LR_r1i1p1f1 piControl has 1000 years\n",
      "MIROC6_r1i1p1f1 piControl has 500 years\n",
      "MPI-ESM1-2-HR_r1i1p1f1 piControl has 500 years\n",
      "MPI-ESM1-2-LR_r1i1p1f1 piControl has 1000 years\n",
      "MRI-ESM2-0_r1i1p1f1 piControl has 701 years\n",
      "NorESM2-LM_r1i1p1f1 piControl has 501 years\n",
      "NorESM2-MM_r1i1p1f1 piControl has 500 years\n",
      "UKESM1-0-LL_r1i1p1f2 piControl has 1100 years\n"
     ]
    }
   ],
   "source": [
    "# How much PI control data are available for each source-member pair?\n",
    "for source_member in source_member_list:\n",
    "    in_da = in_da_dict[(source_member, 'piControl', 'zostoga')]\n",
    "    print(f'{source_member} piControl has {len(in_da)} years')"
   ]
  },
  {
   "cell_type": "code",
   "execution_count": 12,
   "id": "96f8ff69-77d7-472f-b04c-cb8983815651",
   "metadata": {},
   "outputs": [],
   "source": [
    "# Limit SSPs to 2100 for consistency\n",
    "for source_member in source_member_list:\n",
    "    for exp in exp_dict.keys():\n",
    "        if 'ssp' in exp:\n",
    "            for var in in_var_list:\n",
    "                try:\n",
    "                    time_data = in_da_dict[(source_member, exp, var)].time.data\n",
    "                    if time_data[-1] > 2100: \n",
    "                        in_da = in_da_dict[(source_member, exp, var)]\n",
    "                        in_da = in_da.where(in_da.time <= 2100, drop=True)\n",
    "                        in_da_dict[(source_member, exp, var)] = in_da\n",
    "                except KeyError:\n",
    "                    pass"
   ]
  },
  {
   "cell_type": "code",
   "execution_count": 13,
   "id": "dfee93dd-d427-4566-a61b-639c87ac704a",
   "metadata": {},
   "outputs": [
    {
     "name": "stdout",
     "output_type": "stream",
     "text": [
      "MRI-ESM2-0_r1i1p1f1 ssp126 zostoga year-2015 shifted from 2.0144 to 69.3741\n",
      "MRI-ESM2-0_r1i1p1f1 ssp245 zostoga year-2015 shifted from 2.1230 to 69.3741\n",
      "MRI-ESM2-0_r1i1p1f1 ssp370 zostoga year-2015 shifted from 2.3462 to 69.3741\n",
      "MRI-ESM2-0_r1i1p1f1 ssp585 zostoga year-2015 shifted from 1.2473 to 69.3741\n"
     ]
    }
   ],
   "source": [
    "# Correct discontinuities in MRI-ESM2-0_r1i1p1f1 zostoga SSP time series\n",
    "for source_member in ['MRI-ESM2-0_r1i1p1f1',]:\n",
    "    # Using historical time series, extrapolate to 2015 based on 2014-2013 diff\n",
    "    in_da = in_da_dict[(source_member, 'historical', 'zostoga')]\n",
    "    diff = in_da[-1].data - in_da[-2].data\n",
    "    extrap_2015 = in_da[-1].data + diff\n",
    "    # Shift SSP data from 2015 onwards to match extrapolation bridging discontinuity\n",
    "    for exp in exp_dict.keys():\n",
    "        if 'ssp' in exp:\n",
    "            in_da = in_da_dict[(source_member, exp, 'zostoga')]\n",
    "            old_2015 = in_da.sel(time=2015).data  # current value for 2015\n",
    "            correction = extrap_2015 - old_2015  # correction to apply\n",
    "            new_da = xr.concat([in_da.sel(time=slice(1850,2014)),\n",
    "                                (in_da.sel(time=slice(2015,2100))+correction)], dim='time')  # apply correction\n",
    "            new_2015 = new_da.sel(time=2015).data  # new value for 2015\n",
    "            in_da_dict[(source_member, exp, 'zostoga')] = new_da\n",
    "            print(f'{source_member} {exp} zostoga year-2015 shifted from {old_2015:.4f} to {new_2015:.4f}')"
   ]
  },
  {
   "cell_type": "code",
   "execution_count": 14,
   "id": "b21cf971-c93c-49aa-bd55-ea065901400e",
   "metadata": {},
   "outputs": [
    {
     "name": "stdout",
     "output_type": "stream",
     "text": [
      "Mon Aug 15 17:33:23 +08 2022\n"
     ]
    }
   ],
   "source": [
    "! date"
   ]
  }
 ],
 "metadata": {
  "kernelspec": {
   "display_name": "Python 3 (ipykernel)",
   "language": "python",
   "name": "python3"
  },
  "language_info": {
   "codemirror_mode": {
    "name": "ipython",
    "version": 3
   },
   "file_extension": ".py",
   "mimetype": "text/x-python",
   "name": "python",
   "nbconvert_exporter": "python",
   "pygments_lexer": "ipython3",
   "version": "3.10.5"
  }
 },
 "nbformat": 4,
 "nbformat_minor": 5
}
