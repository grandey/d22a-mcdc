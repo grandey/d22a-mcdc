{
 "cells": [
  {
   "cell_type": "markdown",
   "id": "063ead3a-3833-45f5-a4ea-0724f4b39ce6",
   "metadata": {},
   "source": [
    "# mcdc_analysis_d22a\n",
    "\n",
    "### Purpose\n",
    "Using Monte Carlo Drift Correction (MCDC), analyse data produced by [data_d22a.ipynb](https://github.com/grandey/d22a-mcdc/blob/main/data_d22a.ipynb), including production of figures and tables.\n",
    "\n",
    "### Input data requirements\n",
    "NetCDF files in [data/](https://github.com/grandey/d22a-mcdc/tree/main/data/) (produced by [data_d22a.ipynb](https://github.com/grandey/d22a-mcdc/blob/main/data_d22a.ipynb)), each containing a global mean time series for a given variable, AOGCM variant, and CMIP6 experiment.\n",
    "\n",
    "### Output files written\n",
    "Figures (TODO) and tables (TODO).\n",
    "\n",
    "### History\n",
    "BSG, 2022."
   ]
  },
  {
   "cell_type": "code",
   "execution_count": 1,
   "id": "c40cb6cf-7c6d-474f-88ad-8b18ced4fa03",
   "metadata": {},
   "outputs": [
    {
     "name": "stdout",
     "output_type": "stream",
     "text": [
      "Thu Aug 18 10:56:11 +08 2022\n"
     ]
    }
   ],
   "source": [
    "! date"
   ]
  },
  {
   "cell_type": "code",
   "execution_count": 2,
   "id": "00885783-072d-446e-9c16-7c7142a5af6c",
   "metadata": {},
   "outputs": [],
   "source": [
    "from functools import cache\n",
    "import itertools\n",
    "import math\n",
    "import matplotlib.pyplot as plt\n",
    "import numpy as np\n",
    "import pandas as pd\n",
    "import pathlib\n",
    "from scipy import stats\n",
    "import statsmodels.api as sm\n",
    "import xarray as xr"
   ]
  },
  {
   "cell_type": "code",
   "execution_count": 3,
   "id": "06c4b89e-c4a2-4828-bc12-94114c9e9d22",
   "metadata": {},
   "outputs": [],
   "source": [
    "# Matplotlib settings\n",
    "%matplotlib inline\n",
    "plt.rcParams['savefig.dpi'] = 300"
   ]
  },
  {
   "cell_type": "code",
   "execution_count": 4,
   "id": "51b71f3c-c030-499a-a137-598a697574ec",
   "metadata": {},
   "outputs": [
    {
     "name": "stdout",
     "output_type": "stream",
     "text": [
      "xarray: 2022.6.0\n",
      "numpy: 1.23.1\n",
      "pandas: 1.4.3\n",
      "statsmodels.api: 0.13.2\n",
      "xarray: 2022.6.0\n"
     ]
    }
   ],
   "source": [
    "# Package versions\n",
    "for p in [xr, np, pd, sm, xr]:\n",
    "    print(f'{p.__name__}: {p.__version__}')"
   ]
  },
  {
   "cell_type": "code",
   "execution_count": 5,
   "id": "fd637c4d-5cca-42f4-a700-187e38031645",
   "metadata": {},
   "outputs": [
    {
     "data": {
      "text/plain": [
       "Generator(PCG64) at 0x16C92B220"
      ]
     },
     "execution_count": 5,
     "metadata": {},
     "output_type": "execute_result"
    }
   ],
   "source": [
    "# Random number generator\n",
    "rng = np.random.default_rng(12345)\n",
    "rng"
   ]
  },
  {
   "cell_type": "markdown",
   "id": "9d945729-4214-4d51-8aad-5280c0c59166",
   "metadata": {},
   "source": [
    "## Identify AOGCM variants (source-member pairs)\n",
    "Note: the AOGCM variants identified should match those identified by data_d22a.ipynb."
   ]
  },
  {
   "cell_type": "code",
   "execution_count": 6,
   "id": "3900e577-986a-4678-aea8-1ca48835df95",
   "metadata": {},
   "outputs": [
    {
     "name": "stdout",
     "output_type": "stream",
     "text": [
      "20 source-member pairs identified.\n"
     ]
    },
    {
     "data": {
      "text/plain": [
       "['ACCESS-CM2_r1i1p1f1',\n",
       " 'ACCESS-ESM1-5_r1i1p1f1',\n",
       " 'CMCC-CM2-SR5_r1i1p1f1',\n",
       " 'CMCC-ESM2_r1i1p1f1',\n",
       " 'CNRM-CM6-1_r1i1p1f2',\n",
       " 'CNRM-ESM2-1_r1i1p1f2',\n",
       " 'CanESM5_r1i1p1f1',\n",
       " 'EC-Earth3-Veg-LR_r1i1p1f1',\n",
       " 'EC-Earth3-Veg_r1i1p1f1',\n",
       " 'EC-Earth3_r1i1p1f1',\n",
       " 'GISS-E2-1-G_r1i1p5f1',\n",
       " 'GISS-E2-1-H_r1i1p1f2',\n",
       " 'IPSL-CM6A-LR_r1i1p1f1',\n",
       " 'MIROC6_r1i1p1f1',\n",
       " 'MPI-ESM1-2-HR_r1i1p1f1',\n",
       " 'MPI-ESM1-2-LR_r1i1p1f1',\n",
       " 'MRI-ESM2-0_r1i1p1f1',\n",
       " 'NorESM2-LM_r1i1p1f1',\n",
       " 'NorESM2-MM_r1i1p1f1',\n",
       " 'UKESM1-0-LL_r1i1p1f2']"
      ]
     },
     "execution_count": 6,
     "metadata": {},
     "output_type": "execute_result"
    }
   ],
   "source": [
    "# Location of data produced by data_d22a.ipynb\n",
    "in_base = pathlib.Path.cwd() / 'data' / 'regrid_missto0_yearmean_fldmean_mergetime'\n",
    "\n",
    "# Core variables required\n",
    "core_var_list = ['rsdt', 'rsut', 'rlut', # R = rsdt-rsut-rlut\n",
    "                 'hfds',  # H (without flux correction)\n",
    "                 'zostoga']  # Z\n",
    "\n",
    "# Experiments required (with corresponding names, used for figs later)\n",
    "exp_dict = {'piControl': 'Control', 'historical': 'Historical',\n",
    "            'ssp126': 'SSP1-2.6', 'ssp245': 'SSP2-4.5',\n",
    "            'ssp370': 'SSP3-7.0', 'ssp585': 'SSP5-8.5'}\n",
    "\n",
    "# Identify source-member pairs to use\n",
    "source_member_list = sorted([d.name for d in in_base.glob(f'rsdt/[!.]*_*')])  # this list will be reduced\n",
    "for source_member in source_member_list.copy():  # loop over copy of source-member pairs to check data availability\n",
    "    for var in core_var_list:  # loop over required variables\n",
    "        for exp in exp_dict.keys():  # loop over experiments\n",
    "            #in_fns = sorted(in_base.glob(f'{var}/{source_member}/{var}_{source_member}_{exp}.mergetime.nc'))\n",
    "            in_fn = in_base.joinpath(f'{var}/{source_member}/{var}_{source_member}_{exp}.mergetime.nc')\n",
    "            if not in_fn.is_file():  # if input file for this experiment does not exist...\n",
    "                try:\n",
    "                    source_member_list.remove(source_member)  # ... do not use this source-member pair\n",
    "                except ValueError:  # when source-member pair has previously been removed\n",
    "                    pass\n",
    "\n",
    "print(f'{len(source_member_list)} source-member pairs identified.')\n",
    "source_member_list"
   ]
  },
  {
   "cell_type": "markdown",
   "id": "d07f8c6e-a0a4-4d7f-8394-acb36dab6ef0",
   "metadata": {},
   "source": [
    "## Read input data"
   ]
  },
  {
   "cell_type": "code",
   "execution_count": 7,
   "id": "50f79f6e-1267-44d2-bd0f-642e49dcf654",
   "metadata": {},
   "outputs": [
    {
     "name": "stdout",
     "output_type": "stream",
     "text": [
      "in_da_dict contains 606 DataArrays\n",
      "CPU times: user 1.51 s, sys: 47.2 ms, total: 1.56 s\n",
      "Wall time: 1.66 s\n"
     ]
    }
   ],
   "source": [
    "%%time\n",
    "# Dictionary to hold input DataArrays\n",
    "in_da_dict = {}  # keys will be tuples of (source_member, exp, var)\n",
    "\n",
    "# List of input data variables \n",
    "in_var_list = ['rsdt', 'rsut', 'rlut',  # R = rsdt-rsut-rlut\n",
    "               'hfds',  # H (without flux correction)\n",
    "               'hfcorr',  # flux correction, available for very few source-member pairs\n",
    "               'zostoga']  # Z\n",
    "\n",
    "# Loop over source-member pairs, experiments, and variables\n",
    "for source_member in source_member_list:\n",
    "    for exp in exp_dict.keys():\n",
    "        for var in in_var_list:\n",
    "            # Read input data (if they exist)\n",
    "            in_fn = in_base.joinpath(f'{var}/{source_member}/{var}_{source_member}_{exp}.mergetime.nc')\n",
    "            try:\n",
    "                in_ds = xr.open_dataset(in_fn)  # Dataset\n",
    "                in_da = in_ds[var]  # DataArray\n",
    "                # Remove degenerate lon and lat dimensions\n",
    "                in_da = in_da.squeeze()\n",
    "                # Convert time units to year\n",
    "                in_da['time'] = (in_da['time'] // 1e4).astype(int)\n",
    "                in_da['time'].attrs['units'] = 'yr'\n",
    "                # Convert zostoga units to mm\n",
    "                if var == 'zostoga':\n",
    "                    in_da.data = in_da.data * 1e3\n",
    "                    in_da.attrs['units'] = 'mm'\n",
    "                # Check: do data have non-zero values?\n",
    "                if (in_da**2).sum() == 0:\n",
    "                    print(f'Skipping {source_member} {exp} {var} (no non-zero values)')\n",
    "                else:\n",
    "                    # Save to dictionary\n",
    "                    in_da_dict[(source_member, exp, var)] = in_da\n",
    "            except FileNotFoundError:\n",
    "                pass\n",
    "\n",
    "print(f'in_da_dict contains {len(in_da_dict)} DataArrays')"
   ]
  },
  {
   "cell_type": "markdown",
   "id": "532fe257-f41e-41f7-b723-61620689d93a",
   "metadata": {},
   "source": [
    "## Basic processing of input data"
   ]
  },
  {
   "cell_type": "code",
   "execution_count": 8,
   "id": "57847362-7975-405b-bdda-56de96a9b28c",
   "metadata": {},
   "outputs": [
    {
     "name": "stdout",
     "output_type": "stream",
     "text": [
      "IPSL-CM6A-LR_r1i1p1f1 piControl hfds had missing years; using period before gap; length 1800 -> 1000.\n"
     ]
    }
   ],
   "source": [
    "# Are there any gaps (missing years) in the data coverage?\n",
    "for source_member in source_member_list:\n",
    "    for exp in exp_dict.keys():\n",
    "        for var in in_var_list:\n",
    "            try:\n",
    "                in_da = in_da_dict[(source_member, exp, var)]\n",
    "                # Is the interval betweeen successive time coords always 1 year?\n",
    "                intervals = in_da.time.data[1:] - in_da.time.data[:-1]\n",
    "                if not np.all(intervals == 1):\n",
    "                    # If a gap is found, limit to period before gap\n",
    "                    gap_i = int(np.where(intervals != 1)[0])  # identify first gap\n",
    "                    gap_yr = in_da.time.data[gap_i]  # final year before gap\n",
    "                    len_old = len(in_da)  # old length\n",
    "                    in_da = in_da.where(in_da.time <= gap_yr, drop=True)  # limit data\n",
    "                    in_da_dict[(source_member, exp, var)] = in_da  # update dict\n",
    "                    len_new = len(in_da)  # new length\n",
    "                    print(f'{source_member} {exp} {var} had missing years; using period before gap; '\n",
    "                          f'length {len_old} -> {len_new}.')\n",
    "            except KeyError:\n",
    "                pass"
   ]
  },
  {
   "cell_type": "code",
   "execution_count": 9,
   "id": "b2ba0ab8-5c8d-42cd-af56-da26b0ea4f97",
   "metadata": {},
   "outputs": [
    {
     "name": "stdout",
     "output_type": "stream",
     "text": [
      "CanESM5_r1i1p1f1 ssp585 has inconsistent time coord\n",
      "  End years differ: [2300, 2300, 2300, 2300, 2180]\n",
      "  Limiting to shared period of 1850-2180 (331 years)\n",
      "EC-Earth3-Veg_r1i1p1f1 piControl has inconsistent time coord\n",
      "  End years differ: [3849, 3849, 3849, 2349, 2349]\n",
      "  Limiting to shared period of 1850-2349 (500 years)\n",
      "IPSL-CM6A-LR_r1i1p1f1 piControl has inconsistent time coord\n",
      "  End years differ: [3849, 3849, 3849, 2849, 3849]\n",
      "  Limiting to shared period of 1850-2849 (1000 years)\n",
      "MIROC6_r1i1p1f1 piControl has inconsistent time coord\n",
      "  End years differ: [3999, 3999, 3999, 3699, 3999]\n",
      "  Limiting to shared period of 3200-3699 (500 years)\n",
      "UKESM1-0-LL_r1i1p1f2 piControl has inconsistent time coord\n",
      "  End years differ: [3839, 3839, 3839, 3839, 3059]\n",
      "  Limiting to shared period of 1960-3059 (1100 years)\n"
     ]
    }
   ],
   "source": [
    "# For a given source-member and experiment, is the time coverage consistent between core variables?\n",
    "for source_member in source_member_list:\n",
    "    for exp in exp_dict.keys():\n",
    "        try:\n",
    "            # Time coords for primary variables of interest\n",
    "            time1 = in_da_dict[(source_member, exp, 'rsdt')].time.data\n",
    "            time2 = in_da_dict[(source_member, exp, 'rsut')].time.data\n",
    "            time3 = in_da_dict[(source_member, exp, 'rlut')].time.data\n",
    "            time4 = in_da_dict[(source_member, exp, 'hfds')].time.data\n",
    "            time5 = in_da_dict[(source_member, exp, 'zostoga')].time.data\n",
    "            # Are the time coords the same?\n",
    "            if not (np.array_equal(time1, time2) and np.array_equal(time1, time3) and\n",
    "                    np.array_equal(time1, time4) and np.array_equal(time1, time5)):\n",
    "                print(f'{source_member} {exp} has inconsistent time coord')\n",
    "                # Are the start years the same?\n",
    "                start_list = [t[0] for t in [time1, time2, time3, time4, time5]]\n",
    "                if len(set(start_list)) > 1:\n",
    "                    print(f'  Start years differ: {start_list}')\n",
    "                start_max = max(start_list)  # earliest year available for all\n",
    "                # Are the end years the same?\n",
    "                end_list = [t[-1] for t in [time1, time2, time3, time4, time5]]\n",
    "                if len(set(end_list)) > 1:\n",
    "                    print(f'  End years differ: {end_list}')\n",
    "                end_min = min(end_list)  # latest year availabe for all\n",
    "                # Limit to shared period\n",
    "                print(f'  Limiting to shared period of {start_max}-{end_min} ({end_min-start_max+1} years)')\n",
    "                for var in in_var_list:  # limit time coord for all variables (including hfcorr)\n",
    "                    try:\n",
    "                        in_da = in_da_dict[(source_member, exp, var)]\n",
    "                        in_da = in_da.where((in_da.time >= start_max) & (in_da.time <= end_min), drop=True)\n",
    "                        in_da_dict[(source_member, exp, var)] = in_da\n",
    "                    except KeyError:\n",
    "                        pass\n",
    "        except KeyError:\n",
    "            pass"
   ]
  },
  {
   "cell_type": "code",
   "execution_count": 10,
   "id": "cba54b84-d1ce-490c-9430-834be49b00d3",
   "metadata": {},
   "outputs": [],
   "source": [
    "# Shift PI control start year to 1 (arbitrary)\n",
    "for source_member in source_member_list:\n",
    "    for var in in_var_list:\n",
    "        try:\n",
    "            in_da = in_da_dict[(source_member, 'piControl', var)]\n",
    "            in_da['time'] = in_da['time'] - in_da['time'][0] + 1  # shift\n",
    "        except IndexError:\n",
    "            print('IndexError encountered:', source_member, var, in_da)\n",
    "        except KeyError:\n",
    "            pass"
   ]
  },
  {
   "cell_type": "code",
   "execution_count": 11,
   "id": "bc7de0ef-037f-46a5-93f0-ebaa728d2b44",
   "metadata": {},
   "outputs": [
    {
     "name": "stdout",
     "output_type": "stream",
     "text": [
      "ACCESS-CM2_r1i1p1f1 piControl has 500 years\n",
      "ACCESS-ESM1-5_r1i1p1f1 piControl has 1000 years\n",
      "CMCC-CM2-SR5_r1i1p1f1 piControl has 500 years\n",
      "CMCC-ESM2_r1i1p1f1 piControl has 500 years\n",
      "CNRM-CM6-1_r1i1p1f2 piControl has 500 years\n",
      "CNRM-ESM2-1_r1i1p1f2 piControl has 500 years\n",
      "CanESM5_r1i1p1f1 piControl has 1000 years\n",
      "EC-Earth3-Veg-LR_r1i1p1f1 piControl has 501 years\n",
      "EC-Earth3-Veg_r1i1p1f1 piControl has 500 years\n",
      "EC-Earth3_r1i1p1f1 piControl has 501 years\n",
      "GISS-E2-1-G_r1i1p5f1 piControl has 201 years\n",
      "GISS-E2-1-H_r1i1p1f2 piControl has 451 years\n",
      "IPSL-CM6A-LR_r1i1p1f1 piControl has 1000 years\n",
      "MIROC6_r1i1p1f1 piControl has 500 years\n",
      "MPI-ESM1-2-HR_r1i1p1f1 piControl has 500 years\n",
      "MPI-ESM1-2-LR_r1i1p1f1 piControl has 1000 years\n",
      "MRI-ESM2-0_r1i1p1f1 piControl has 701 years\n",
      "NorESM2-LM_r1i1p1f1 piControl has 501 years\n",
      "NorESM2-MM_r1i1p1f1 piControl has 500 years\n",
      "UKESM1-0-LL_r1i1p1f2 piControl has 1100 years\n"
     ]
    }
   ],
   "source": [
    "# How much PI control data are available for each source-member pair?\n",
    "for source_member in source_member_list:\n",
    "    in_da = in_da_dict[(source_member, 'piControl', 'zostoga')]\n",
    "    print(f'{source_member} piControl has {len(in_da)} years')"
   ]
  },
  {
   "cell_type": "code",
   "execution_count": 12,
   "id": "96f8ff69-77d7-472f-b04c-cb8983815651",
   "metadata": {},
   "outputs": [],
   "source": [
    "# Limit SSPs to 2100 for consistency\n",
    "for source_member in source_member_list:\n",
    "    for exp in exp_dict.keys():\n",
    "        if 'ssp' in exp:\n",
    "            for var in in_var_list:\n",
    "                try:\n",
    "                    time_data = in_da_dict[(source_member, exp, var)].time.data\n",
    "                    if time_data[-1] > 2100: \n",
    "                        in_da = in_da_dict[(source_member, exp, var)]\n",
    "                        in_da = in_da.where(in_da.time <= 2100, drop=True)\n",
    "                        in_da_dict[(source_member, exp, var)] = in_da\n",
    "                except KeyError:\n",
    "                    pass"
   ]
  },
  {
   "cell_type": "code",
   "execution_count": 13,
   "id": "dfee93dd-d427-4566-a61b-639c87ac704a",
   "metadata": {},
   "outputs": [
    {
     "name": "stdout",
     "output_type": "stream",
     "text": [
      "MRI-ESM2-0_r1i1p1f1 ssp126 zostoga year-2015 shifted from 2.0144 to 69.3741\n",
      "MRI-ESM2-0_r1i1p1f1 ssp245 zostoga year-2015 shifted from 2.1230 to 69.3741\n",
      "MRI-ESM2-0_r1i1p1f1 ssp370 zostoga year-2015 shifted from 2.3462 to 69.3741\n",
      "MRI-ESM2-0_r1i1p1f1 ssp585 zostoga year-2015 shifted from 1.2473 to 69.3741\n"
     ]
    }
   ],
   "source": [
    "# Correct discontinuities in MRI-ESM2-0_r1i1p1f1 zostoga SSP time series\n",
    "for source_member in ['MRI-ESM2-0_r1i1p1f1',]:\n",
    "    # Using historical time series, extrapolate to 2015 based on 2014-2013 diff\n",
    "    in_da = in_da_dict[(source_member, 'historical', 'zostoga')]\n",
    "    diff = in_da[-1].data - in_da[-2].data\n",
    "    extrap_2015 = in_da[-1].data + diff\n",
    "    # Shift SSP data from 2015 onwards to match extrapolation bridging discontinuity\n",
    "    for exp in exp_dict.keys():\n",
    "        if 'ssp' in exp:\n",
    "            in_da = in_da_dict[(source_member, exp, 'zostoga')]\n",
    "            old_2015 = in_da.sel(time=2015).data  # current value for 2015\n",
    "            correction = extrap_2015 - old_2015  # correction to apply\n",
    "            new_da = xr.concat([in_da.sel(time=slice(1850,2014)),\n",
    "                                (in_da.sel(time=slice(2015,2100))+correction)], dim='time')  # apply correction\n",
    "            new_2015 = new_da.sel(time=2015).data  # new value for 2015\n",
    "            in_da_dict[(source_member, exp, 'zostoga')] = new_da\n",
    "            print(f'{source_member} {exp} zostoga year-2015 shifted from {old_2015:.4f} to {new_2015:.4f}')"
   ]
  },
  {
   "cell_type": "markdown",
   "id": "43fb258b-38c4-4349-b9eb-e3d6d8d2a448",
   "metadata": {},
   "source": [
    "## Calculate uncorrected $R$, ${\\int}R$, $H$, ${\\int}H$, and $\\Delta Z$ from input data"
   ]
  },
  {
   "cell_type": "code",
   "execution_count": 14,
   "id": "5e786178-06f2-44e4-8e11-57178fcab56b",
   "metadata": {},
   "outputs": [
    {
     "name": "stdout",
     "output_type": "stream",
     "text": [
      "MRI-ESM2-0_r1i1p1f1 piControl has hfcorr (mean=0.288, std=0.010)\n",
      "MRI-ESM2-0_r1i1p1f1 historical has hfcorr (mean=0.283, std=0.013)\n",
      "MRI-ESM2-0_r1i1p1f1 ssp126 has hfcorr (mean=0.263, std=0.030)\n",
      "MRI-ESM2-0_r1i1p1f1 ssp245 has hfcorr (mean=0.259, std=0.038)\n",
      "MRI-ESM2-0_r1i1p1f1 ssp370 has hfcorr (mean=0.255, std=0.045)\n",
      "MRI-ESM2-0_r1i1p1f1 ssp585 has hfcorr (mean=0.251, std=0.052)\n",
      "da_dict contains 600 DataArrays\n"
     ]
    }
   ],
   "source": [
    "# Dictionary to hold DataArrays\n",
    "da_dict = {}  # keys will be tuples of (source_member, exp, var)\n",
    "\n",
    "# Loop over source-member pairs and experiments\n",
    "for source_member in source_member_list:\n",
    "    for exp in exp_dict.keys():\n",
    "        # R = rsdt-rsut-rlut\n",
    "        r_da = (in_da_dict[(source_member, exp, 'rsdt')]\n",
    "                - in_da_dict[(source_member, exp, 'rsut')]\n",
    "                - in_da_dict[(source_member, exp, 'rlut')])\n",
    "        da_dict[(source_member, exp, 'R')] = r_da  # R\n",
    "        da_dict[(source_member, exp, 'R')].attrs['units'] = 'W m$^{-2}$'\n",
    "        # \\int R\n",
    "        da_dict[(source_member, exp, '\\int R')] = r_da.cumsum()\n",
    "        da_dict[(source_member, exp, '\\int R')].attrs['units'] = 'W m$^{-2}$ yr'\n",
    "        # H = hfds+hfcorr (ie apply flux correction if it is non-zero)\n",
    "        try:\n",
    "            # If hfcorr exists, add it to hfds\n",
    "            in_da = in_da_dict[(source_member, exp, 'hfcorr')].copy()\n",
    "            print(f'{source_member} {exp} has hfcorr (mean={in_da.mean().data:0.3f}, std={in_da.std().data:0.3f})')\n",
    "            da_dict[(source_member, exp, 'H')] = in_da_dict[(source_member, exp, 'hfds')] + in_da\n",
    "        except KeyError:\n",
    "            # If hfcorr does not exist, assume it is zero and just use hfds\n",
    "            da_dict[(source_member, exp, 'H')] = in_da_dict[(source_member, exp, 'hfds')].copy()\n",
    "        da_dict[(source_member, exp, 'H')].attrs['units'] = 'W m$^{-2}$'\n",
    "        # \\int H\n",
    "        da_dict[(source_member, exp, '\\int H')] = da_dict[(source_member, exp, 'H')].cumsum()\n",
    "        da_dict[(source_member, exp, '\\int H')].attrs['units'] = 'W m$^{-2}$ yr'\n",
    "        # \\Delta Z = zostoga (using first year as reference for zero)\n",
    "        z_da = in_da_dict[(source_member, exp, 'zostoga')].copy()\n",
    "        z_da -= z_da[0]\n",
    "        da_dict[(source_member, exp, '\\Delta Z')] = z_da\n",
    "\n",
    "print(f'da_dict contains {len(da_dict)} DataArrays')"
   ]
  },
  {
   "cell_type": "markdown",
   "id": "00fa8827-52f0-42c7-919e-07803b2ed245",
   "metadata": {},
   "source": [
    "## Constants and conversion factors"
   ]
  },
  {
   "cell_type": "code",
   "execution_count": 15,
   "id": "93f34d16-00ae-44e3-a528-75c0948e325c",
   "metadata": {},
   "outputs": [
    {
     "name": "stdout",
     "output_type": "stream",
     "text": [
      "                source_member    area_earth\n",
      "0         ACCESS-CM2_r1i1p1f1  5.100645e+14\n",
      "1      ACCESS-ESM1-5_r1i1p1f1  5.100645e+14\n",
      "2       CMCC-CM2-SR5_r1i1p1f1  5.100645e+14\n",
      "3          CMCC-ESM2_r1i1p1f1  5.100645e+14\n",
      "4         CNRM-CM6-1_r1i1p1f2  5.100645e+14\n",
      "5        CNRM-ESM2-1_r1i1p1f2  5.100645e+14\n",
      "6            CanESM5_r1i1p1f1  5.100645e+14\n",
      "7   EC-Earth3-Veg-LR_r1i1p1f1  5.100645e+14\n",
      "8      EC-Earth3-Veg_r1i1p1f1  5.100645e+14\n",
      "9          EC-Earth3_r1i1p1f1  5.100645e+14\n",
      "10       GISS-E2-1-G_r1i1p5f1  5.100645e+14\n",
      "11       GISS-E2-1-H_r1i1p1f2  5.100645e+14\n",
      "12      IPSL-CM6A-LR_r1i1p1f1  5.100645e+14\n",
      "13            MIROC6_r1i1p1f1  5.100645e+14\n",
      "14     MPI-ESM1-2-HR_r1i1p1f1  5.100645e+14\n",
      "15     MPI-ESM1-2-LR_r1i1p1f1  5.100645e+14\n",
      "16        MRI-ESM2-0_r1i1p1f1  5.100645e+14\n",
      "17        NorESM2-LM_r1i1p1f1  5.100645e+14\n",
      "18        NorESM2-MM_r1i1p1f1  5.100645e+14\n",
      "19       UKESM1-0-LL_r1i1p1f2  5.100645e+14\n",
      "area_earth = 5.101e+14 m2\n"
     ]
    }
   ],
   "source": [
    "# Total area of earth\n",
    "in_fn = pathlib.Path.cwd() / 'data' / 'area_earth.csv'  # produced by data_d22a.ipynb\n",
    "area_df = pd.read_csv(in_fn)  # read to DataFrame\n",
    "print(area_df)  # print\n",
    "area_earth = area_df['area_earth'].mean()  # convert to single number\n",
    "print(f'area_earth = {area_earth:.3e} m2')"
   ]
  },
  {
   "cell_type": "code",
   "execution_count": 16,
   "id": "0f979924-7c51-40dd-a7fc-0bce03b46e91",
   "metadata": {},
   "outputs": [
    {
     "name": "stdout",
     "output_type": "stream",
     "text": [
      "1 W m-2 yr = 0.0161 YJ\n",
      "1 YJ = 62.17 W m-2 yr\n"
     ]
    }
   ],
   "source": [
    "# Conversion factor for W m-2 yr -> YJ\n",
    "convert_Wm2yr_YJ = area_earth * 365 * 24 * 60 * 60 / 1e24\n",
    "print(f'1 W m-2 yr = {convert_Wm2yr_YJ:.4f} YJ')\n",
    "print(f'1 YJ = {1/convert_Wm2yr_YJ:.2f} W m-2 yr')"
   ]
  },
  {
   "cell_type": "markdown",
   "id": "c8123552-3057-41fb-bcc8-e9b7856b7dae",
   "metadata": {
    "tags": []
   },
   "source": [
    "## Monte Carlo Drift Correction functions\n",
    "\n",
    "**`calc_trend()`** and **`calc_mean()`** calculate the trend/mean of a time series (an xr.DataArray).\n",
    "By default, the trend/mean is perturbed by a random error, drawn from a Gaussian distribution corresponding to the standard errror.\n",
    "\n",
    "**`draw_segments_calc_trends_means()`** randomly draws segments of a specified length from a list of DataArrays.\n",
    "The DataArrays are sampled consistently using the same 150 year segments.\n",
    "For each segment, the function uses `calc_trend()` and `calc_mean()` to calculate trends and means (with random errors included by default).\n",
    "`draw_segments_calc_trends_means()` returns trends (list of arrays, one array for each input DataArray), means (list of arrays), and the start years of the segments sampled (single array).\n",
    "\n",
    "**`sample_pi_trends_means()`** applies `draw_segments_calc_trends_means()` to the pre-industrial control time series for a specific AOGCM variant and list of variables.\n",
    "`sample_pi_trends_means()` reads the required time series (one for each variable) directly from `da_dict` (dictionary of DataArrays constructed above).\n",
    "Caching is used to ensure that the samples remain consistent when the function is called multiple times, provided that all arguments passed remain identical.\n",
    "(Caching can be applied because the arguments are hashable.)\n",
    "\n",
    "**`mc_drift_correction()`** uses samples from `sample_pi_trends_means()` to apply MCDC to a time series for a specific AOGCM variant, experiment, and variable.\n",
    "`mc_drift_correction()` reads the required time series directly from `da_dict`.\n",
    "The function returns a list of trend corrected (or bias corrected) time series.\n",
    "Caching is used to ensure consistency.\n",
    "\n",
    "**`sample_target_decade()`** uses `mc_drift_correction()` to obtain the MC drift corrected samples for a specific AOGCM variant, experiment, and variable.\n",
    "The samples are then averaged across a specific target decade.\n",
    "The trend method is used by default, but the function can also apply the integrated-bias method.\n",
    "\n",
    "**`sample_beta_eps()`** calculates $\\beta$ ($\\int H$ vs $\\int R$) or $\\epsilon$ ($\\Delta Z$ vs $\\int H$) coefficients using MC drift corrected samples for a given AOGCM variant and experiment.\n",
    "The function uses `mc_drift_correction()` to obtain the MC drift corrected samples for the required input variables ($\\int H$ and either $\\int R$ or $\\Delta Z$). \n",
    "The trend method is used by default, but the function can also apply the integrated-bias method."
   ]
  },
  {
   "cell_type": "code",
   "execution_count": 17,
   "id": "b7b45f87-f050-4c1e-9c2a-34dcdf6ead54",
   "metadata": {},
   "outputs": [
    {
     "name": "stdout",
     "output_type": "stream",
     "text": [
      "CPU times: user 1.55 ms, sys: 889 µs, total: 2.44 ms\n",
      "Wall time: 1.47 ms\n"
     ]
    },
    {
     "data": {
      "text/plain": [
       "-0.053359242656797146"
      ]
     },
     "execution_count": 17,
     "metadata": {},
     "output_type": "execute_result"
    }
   ],
   "source": [
    "def calc_trend(data_da, inc_rand_error=True):\n",
    "    \"\"\"Calculate the trend of a time series (xr.DataArray), include random error (optional), and return trend.\"\"\"\n",
    "    # Linear regression (using statsmodels)\n",
    "    x_in = sm.add_constant(data_da.time, prepend=True)\n",
    "    sm_reg = sm.OLS(data_da.data, x_in).fit()\n",
    "    b = sm_reg.params[1]  # slope\n",
    "    # Include random error using the standard error (assuming Gaussian)?\n",
    "    if inc_rand_error:\n",
    "        bse = sm_reg.bse[1]  # standard error on slope\n",
    "        trend = rng.normal(loc=b, scale=bse)  # sample from Gaussian\n",
    "    else:\n",
    "        trend = b\n",
    "    return trend\n",
    "\n",
    "# Example\n",
    "data_da = da_dict[(source_member_list[-1], 'piControl', '\\Delta Z')].copy()\n",
    "%time calc_trend(data_da)"
   ]
  },
  {
   "cell_type": "code",
   "execution_count": 18,
   "id": "3bd9aadb-b723-4d7c-b2d0-8ff8cafc79d7",
   "metadata": {},
   "outputs": [
    {
     "name": "stdout",
     "output_type": "stream",
     "text": [
      "CPU times: user 379 µs, sys: 47 µs, total: 426 µs\n",
      "Wall time: 413 µs\n"
     ]
    },
    {
     "data": {
      "text/plain": [
       "-40.920236559730064"
      ]
     },
     "execution_count": 18,
     "metadata": {},
     "output_type": "execute_result"
    }
   ],
   "source": [
    "def calc_mean(data_da, inc_rand_error=True):\n",
    "    \"\"\"Calculate the mean of a time series (xr.DataArray), include random error (optional), and return result.\"\"\"\n",
    "    # Mean\n",
    "    m = np.mean(data_da.data)\n",
    "    # Include random error using the standard error (assuming Gaussian)?\n",
    "    if inc_rand_error:\n",
    "        sem = stats.sem(data_da.data)  # standard eror of mean\n",
    "        res = rng.normal(loc=m, scale=sem)  # sample from Gaussian\n",
    "    else:\n",
    "        res = m\n",
    "    return res\n",
    "\n",
    "# Example\n",
    "data_da = da_dict[(source_member_list[-1], 'piControl', '\\Delta Z')].copy()\n",
    "%time calc_mean(data_da)"
   ]
  },
  {
   "cell_type": "code",
   "execution_count": 19,
   "id": "733d15a2-00b3-4016-a6ed-df9f3e8fb951",
   "metadata": {},
   "outputs": [
    {
     "name": "stdout",
     "output_type": "stream",
     "text": [
      "Possible start years: 1 - 951\n",
      "Randomly chosen start years: [195 759 612]\n",
      "Trends: [-0.00010098 -0.0003937   0.00044171]\n",
      "Means: [-0.01634032  0.04432896  0.00087912]\n",
      "Trends: [1.02814916e-03 1.94414061e-05 2.44629685e-05]\n",
      "Means: [-0.27763762 -0.24957567 -0.25250733]\n",
      "Trends: [-0.06995799 -0.01925332 -0.00144673]\n",
      "Means: [-29.38422147 -54.77843728 -49.6483107 ]\n",
      "CPU times: user 8.35 ms, sys: 1.48 ms, total: 9.83 ms\n",
      "Wall time: 8.66 ms\n"
     ]
    },
    {
     "data": {
      "text/plain": [
       "([array([-0.00010098, -0.0003937 ,  0.00044171]),\n",
       "  array([1.02814916e-03, 1.94414061e-05, 2.44629685e-05]),\n",
       "  array([-0.06995799, -0.01925332, -0.00144673])],\n",
       " [array([-0.01634032,  0.04432896,  0.00087912]),\n",
       "  array([-0.27763762, -0.24957567, -0.25250733]),\n",
       "  array([-29.38422147, -54.77843728, -49.6483107 ])],\n",
       " array([195, 759, 612]))"
      ]
     },
     "execution_count": 19,
     "metadata": {},
     "output_type": "execute_result"
    }
   ],
   "source": [
    "def draw_segments_calc_trends_means(da_list,\n",
    "                                    inc_rand_error=True,\n",
    "                                    sample_length=150, sample_n=500,\n",
    "                                    verbose=False):\n",
    "    \"\"\"Draw n segments of specified length from DataArray list; return trends, means, start years (arrays).\"\"\"\n",
    "    # Identify possible start years from which to sample\n",
    "    poss_start_yrs = da_list[0].time.data[0:-sample_length+1]\n",
    "    if verbose:\n",
    "        print(f'Possible start years: {poss_start_yrs[0]} - {poss_start_yrs[-1]}')\n",
    "    # Randomly choose start years (with replacement)\n",
    "    rand_start_yrs = rng.choice(poss_start_yrs, size=sample_n, replace=True)\n",
    "    if verbose:\n",
    "        print(f'Randomly chosen start years: {rand_start_yrs}')\n",
    "    # Lists to hold trends and means for DataArrays in da_list    \n",
    "    trends_list = []\n",
    "    means_list = []\n",
    "    # Loop over DataArrays in list\n",
    "    for data_da in da_list:\n",
    "        # Calculate trends and means of the chosen time series segments\n",
    "        trends = np.zeros(sample_n)  # initialize arrays of trends/means with zero\n",
    "        means = np.zeros(sample_n)\n",
    "        for i in range(sample_n):\n",
    "            start_yr = rand_start_yrs[i]\n",
    "            sample_da = data_da.sel(time=slice(start_yr,start_yr+sample_length-1))\n",
    "            trends[i] = calc_trend(sample_da, inc_rand_error=inc_rand_error)\n",
    "            means[i] = calc_mean(sample_da, inc_rand_error=inc_rand_error)\n",
    "        if verbose:\n",
    "            print(f'Trends: {trends}')\n",
    "            print(f'Means: {means}')\n",
    "        trends_list.append(trends)\n",
    "        means_list.append(means)\n",
    "    return trends_list, means_list, rand_start_yrs\n",
    "\n",
    "# Example\n",
    "da_list = [da_dict[(source_member_list[-1], 'piControl', 'R')].copy(),\n",
    "           da_dict[(source_member_list[-1], 'piControl', 'H')].copy(),\n",
    "           da_dict[(source_member_list[-1], 'piControl', '\\Delta Z')].copy()]\n",
    "%time draw_segments_calc_trends_means(da_list, sample_n=3, verbose=True)"
   ]
  },
  {
   "cell_type": "code",
   "execution_count": 20,
   "id": "0127ef5e-d0d5-4bf9-9c6f-d9f3c3db8527",
   "metadata": {},
   "outputs": [
    {
     "name": "stdout",
     "output_type": "stream",
     "text": [
      "CPU times: user 10 ms, sys: 1.47 ms, total: 11.5 ms\n",
      "Wall time: 10 ms\n",
      "trends_dict = {'R': array([-0.00154269,  0.00075416,  0.00015151]), '\\\\int R': array([0.05329794, 0.02679814, 0.03884867]), 'H': array([-3.34299801e-04,  3.48288677e-05,  3.45758610e-04]), '\\\\int H': array([-0.247902  , -0.27271084, -0.25750381]), '\\\\Delta Z': array([-0.01665722, -0.05625655, -0.03795064])}\n",
      "means_list = {'R': array([0.03215665, 0.01435884, 0.06407744]), '\\\\int R': array([14.96155488, 17.02902318,  1.98296171]), 'H': array([-0.24694582, -0.28046996, -0.26394135]), '\\\\int H': array([-197.32619454, -215.24017672, -115.89223583]), '\\\\Delta Z': array([-50.4162684 , -52.97093961, -38.2335365 ])}\n",
      "start_years = [644 708 324]\n",
      "\n",
      "CPU times: user 4 µs, sys: 0 ns, total: 4 µs\n",
      "Wall time: 5.96 µs\n",
      "trends_dict = {'R': array([-0.00154269,  0.00075416,  0.00015151]), '\\\\int R': array([0.05329794, 0.02679814, 0.03884867]), 'H': array([-3.34299801e-04,  3.48288677e-05,  3.45758610e-04]), '\\\\int H': array([-0.247902  , -0.27271084, -0.25750381]), '\\\\Delta Z': array([-0.01665722, -0.05625655, -0.03795064])}\n",
      "means_list = {'R': array([0.03215665, 0.01435884, 0.06407744]), '\\\\int R': array([14.96155488, 17.02902318,  1.98296171]), 'H': array([-0.24694582, -0.28046996, -0.26394135]), '\\\\int H': array([-197.32619454, -215.24017672, -115.89223583]), '\\\\Delta Z': array([-50.4162684 , -52.97093961, -38.2335365 ])}\n",
      "start_years = [644 708 324]\n"
     ]
    }
   ],
   "source": [
    "# Use caching to ensure that samples remain consistent - provided all arguments passed remain identical.\n",
    "# To ensure this, when calling elsewhere, specify only source_member, sample_length=150, and sample_n=500 arguments.\n",
    "# Cache can be used here because arguments are hashable (ie not arrays, DataArrays etc).\n",
    "@cache\n",
    "def sample_pi_trends_means(source_member, variables=['R', '\\int R', 'H', '\\int H', '\\Delta Z'],\n",
    "                           inc_rand_error=True,\n",
    "                           sample_length=150, sample_n=500):\n",
    "    \"\"\"Apply draw_segments_calc_trends_means() to piControl DataArrays; return trends, means, start years.\"\"\"\n",
    "    # Create list of piControl DataArrays for variables\n",
    "    pi_da_list = []\n",
    "    for var in variables:\n",
    "        pi_da_list.append(da_dict[(source_member, 'piControl', var)].copy())\n",
    "    # Get corresponding lists of trends, means, and start_years\n",
    "    trends_list, means_list, start_years = draw_segments_calc_trends_means(\n",
    "                                                pi_da_list, inc_rand_error=inc_rand_error,\n",
    "                                                sample_length=sample_length, sample_n=sample_n)\n",
    "    # Convert lists to dictionaries\n",
    "    trends_dict = {variables[i]: trends_list[i] for i in range(len(variables))}\n",
    "    means_dict = {variables[i]: means_list[i] for i in range(len(variables))}\n",
    "    return trends_dict, means_dict, start_years\n",
    "\n",
    "# Example - 1st run\n",
    "%time trends_dict, means_dict, start_years = sample_pi_trends_means(source_member_list[-1], sample_n=3)\n",
    "print(f'trends_dict = {trends_dict}')\n",
    "print(f'means_list = {means_dict}')\n",
    "print(f'start_years = {start_years}')\n",
    "print('')\n",
    "# Example - 2nd run, showing (i) consistency of results and (ii) speedup due to use of cache\n",
    "%time trends_dict, means_dict, start_years = sample_pi_trends_means(source_member_list[-1], sample_n=3)\n",
    "print(f'trends_dict = {trends_dict}')\n",
    "print(f'means_list = {means_dict}')\n",
    "print(f'start_years = {start_years}')"
   ]
  },
  {
   "cell_type": "code",
   "execution_count": 21,
   "id": "810b5249-5d22-4da4-a896-65d6f23a1935",
   "metadata": {},
   "outputs": [
    {
     "name": "stdout",
     "output_type": "stream",
     "text": [
      "CPU times: user 961 ms, sys: 3.09 ms, total: 964 ms\n",
      "Wall time: 963 ms\n",
      "len(corr_da_list) = 500\n"
     ]
    }
   ],
   "source": [
    "@cache\n",
    "def mc_drift_correction(source_member, experiment='historical', variable='\\int R',\n",
    "                        trend_correct=True,  # if False, use bias correction instead\n",
    "                        sample_length=150, sample_n=500):\n",
    "    \"\"\"Apply MCDC to time series; return list of DataArrays corresponding to corrected samples.\"\"\"\n",
    "    # Sample piControl trends and means\n",
    "    trends_dict, means_dict, start_years = sample_pi_trends_means(source_member,\n",
    "                                                                  sample_length=sample_length,\n",
    "                                                                  sample_n=sample_n)\n",
    "    # Time series of interest\n",
    "    da = da_dict[(source_member, experiment, variable)].copy()\n",
    "    # Create list to hold results\n",
    "    corr_da_list = []\n",
    "    # Loop over trend/mean samples from piControl and apply correction to time series of interest\n",
    "    for i in range(sample_n):\n",
    "        if trend_correct:\n",
    "            corr_da = da - trends_dict[variable][i] * da.time  # remove trend\n",
    "            corr_da += da.data[0] - corr_da.data[0]  # use same start value as before\n",
    "        else:\n",
    "            corr_da = da - means_dict[variable][i]  # remove bias\n",
    "        corr_da_list.append(corr_da)  # save corrected time series to results list\n",
    "    return corr_da_list\n",
    "\n",
    "# Example\n",
    "%time corr_da_list = mc_drift_correction(source_member_list[-1], trend_correct=False)\n",
    "print(f'len(corr_da_list) = {len(corr_da_list)}')"
   ]
  },
  {
   "cell_type": "code",
   "execution_count": 22,
   "id": "fd97de81-eb79-4478-97a6-0073656975e1",
   "metadata": {},
   "outputs": [
    {
     "name": "stdout",
     "output_type": "stream",
     "text": [
      "CPU times: user 458 ms, sys: 8.95 ms, total: 467 ms\n",
      "Wall time: 461 ms\n",
      "len(data) = 500\n"
     ]
    }
   ],
   "source": [
    "@cache\n",
    "def sample_target_decade(source_member,\n",
    "                         experiment='ssp126', variable='\\Delta Z', target_decade='2090s',\n",
    "                         ref_1995_2014=True,  # if False, start at zero (in 1850)\n",
    "                         trend_correct=True,  # if False, use integrated bias correction instead\n",
    "                         sample_length=150, sample_n=500):\n",
    "    \"\"\"Return drift corrected data for a specific target decade, source-member, experiment, and variable.\"\"\"\n",
    "    # Get data for drift corrected time series\n",
    "    if trend_correct:  # standard trend method\n",
    "        corr_da_list = mc_drift_correction(source_member, experiment=experiment, variable=variable,\n",
    "                                           trend_correct=True,\n",
    "                                           sample_length=sample_length, sample_n=sample_n)\n",
    "    else:  # integrated-bias method: correct bias of un-integrated variable then integrate cumulatively\n",
    "        temp_da_list = mc_drift_correction(source_member, experiment=experiment, variable=variable[-1],\n",
    "                                           trend_correct=False,\n",
    "                                           sample_length=sample_length, sample_n=sample_n)\n",
    "        corr_da_list = [da.cumsum() for da in temp_da_list]\n",
    "    # Array to hold data for target decade (initialized as zero)\n",
    "    data = np.zeros(sample_n)\n",
    "    # Loop over samples\n",
    "    for i, corr_da in enumerate(corr_da_list):\n",
    "        # Relative to 1995-2014 or start (1850)?\n",
    "        if ref_1995_2014:\n",
    "            corr_da -= corr_da.sel(time=slice(1995,2014)).mean()\n",
    "        else:\n",
    "            corr_da -= corr_da[0]\n",
    "        # Find projection for target decade\n",
    "        if '-' in target_decade:\n",
    "            target_start_year, target_end_year = target_decade.split('-')\n",
    "        else:\n",
    "            target_start_year = int(target_decade[0:4])\n",
    "            target_end_year = target_start_year + 9\n",
    "        data[i] = corr_da.sel(time=slice(target_start_year,target_end_year)).mean()\n",
    "    return data\n",
    "\n",
    "# Example\n",
    "%time data = sample_target_decade(source_member_list[-1])\n",
    "print(f'len(data) = {len(data)}')"
   ]
  },
  {
   "cell_type": "code",
   "execution_count": 23,
   "id": "ba6c0500-48fe-4d84-ab96-f3b1628e8ca2",
   "metadata": {},
   "outputs": [
    {
     "name": "stdout",
     "output_type": "stream",
     "text": [
      "CPU times: user 644 ms, sys: 11.3 ms, total: 655 ms\n",
      "Wall time: 648 ms\n",
      "len(coeffs) = 500; units = None; x_trend_correct = True, y_trend_correct = True\n"
     ]
    }
   ],
   "source": [
    "@cache\n",
    "def sample_beta_eps(source_member, experiment='historical',\n",
    "                    beta_T_eps_F=True,  # True for beta, False for epsilon\n",
    "                    trend_correct=True,  # if False, use int.-bias correction instead\n",
    "                    sample_length=150, sample_n=500):\n",
    "    \"\"\"Return beta or eps coefficents for drift corrected samples, with units, x_trend_correct, y_trend_correct.\"\"\"\n",
    "    # Variables, regression coefficient scaling factor, and drift correction methods to use\n",
    "    if beta_T_eps_F:  # beta: int H = beta * int R\n",
    "        x_var = '\\int R'\n",
    "        y_var = '\\int H'\n",
    "        coeff_sf = 1.0  # int H & int H have same units; beta is unitless\n",
    "        units = None\n",
    "        if trend_correct:  # trend method\n",
    "            x_trend_correct, y_trend_correct = True, True\n",
    "        else:  # int.-bias method\n",
    "            x_trend_correct, y_trend_correct = False, False\n",
    "    else:  # epsilon: Delta Z = eps * area_earth * int H = eps * intH * convert_Wm2yr_YJ\n",
    "        x_var = '\\int H'\n",
    "        y_var = '\\Delta Z'\n",
    "        coeff_sf = 1 / convert_Wm2yr_YJ  # eps units will be mm/YJ\n",
    "        units = 'mm YJ$^{-1}$'\n",
    "        if trend_correct:  # trend method\n",
    "            x_trend_correct, y_trend_correct = True, True\n",
    "        else:  # int.-bias method for int H; but int.-bias method cannot be used for Delta Z\n",
    "            x_trend_correct, y_trend_correct = False, True\n",
    "    # Get drift corrected data for x_var\n",
    "    if x_trend_correct:  # standard trend method for x_var\n",
    "        x_corr_da_list = mc_drift_correction(source_member, experiment=experiment, variable=x_var,\n",
    "                                             trend_correct=True,\n",
    "                                             sample_length=sample_length, sample_n=sample_n)\n",
    "    else: # integrated-bias: correct bias of un-integrated variable then integrate cumulatively\n",
    "        temp_da_list = mc_drift_correction(source_member, experiment=experiment, variable=x_var[-1],\n",
    "                                           trend_correct=False,\n",
    "                                           sample_length=sample_length, sample_n=sample_n)\n",
    "        x_corr_da_list = [da.cumsum() for da in temp_da_list]\n",
    "    # Get drift corrected data for y_var\n",
    "    if y_trend_correct: # trend method\n",
    "        y_corr_da_list = mc_drift_correction(source_member, experiment=experiment, variable=y_var,\n",
    "                                             trend_correct=True,\n",
    "                                             sample_length=sample_length, sample_n=sample_n)\n",
    "    else:  # int.-bias method\n",
    "        temp_da_list = mc_drift_correction(source_member, experiment=experiment, variable=y_var[-1],\n",
    "                                           trend_correct=False,\n",
    "                                           sample_length=sample_length, sample_n=sample_n)\n",
    "        y_corr_da_list = [da.cumsum() for da in temp_da_list]\n",
    "    # Array to hold coefficients (either beta or eps; initialized as zero)\n",
    "    coeffs = np.zeros(sample_n)\n",
    "    # Loop over samples\n",
    "    for i, x_corr_da, y_corr_da in zip(range(sample_n), x_corr_da_list, y_corr_da_list):\n",
    "        # For SSPs, only use data from 2015-2100\n",
    "        if 'ssp' in experiment:\n",
    "            x_corr_da = x_corr_da.sel(time=slice(2015,2100))\n",
    "            y_corr_da = y_corr_da.sel(time=slice(2015,2100))\n",
    "        # Linear regression (using statsmodels)\n",
    "        x_in = sm.add_constant(x_corr_da.data, prepend=True)\n",
    "        sm_reg = sm.OLS(y_corr_da.data, x_in).fit()\n",
    "        b = sm_reg.params[1]\n",
    "        # Apply coefficient scaling factor and save to coeffs array\n",
    "        coeffs[i] = b * coeff_sf\n",
    "    return coeffs, units, x_trend_correct, y_trend_correct\n",
    "\n",
    "# Example\n",
    "%time coeffs, units, x_trend_correct, y_trend_correct = sample_beta_eps(source_member_list[-1])\n",
    "print(f'len(coeffs) = {len(coeffs)}; units = {units}; '\n",
    "      f'x_trend_correct = {x_trend_correct}, y_trend_correct = {y_trend_correct}')"
   ]
  },
  {
   "cell_type": "markdown",
   "id": "99ef06ec-13bf-46ab-bd0f-15c0856cb206",
   "metadata": {},
   "source": [
    "## Figure plotting functions"
   ]
  },
  {
   "cell_type": "code",
   "execution_count": 24,
   "id": "52a05007-d743-4979-b2a9-529280c679de",
   "metadata": {},
   "outputs": [],
   "source": [
    "# Colours to use for different experiments\n",
    "# Tested palette using Coblis dichromatic / monochromatic views\n",
    "exp_c_dict = {'piControl': '0.5', 'historical': 'darkblue',\n",
    "              'ssp126': 'lavender', 'ssp245': 'greenyellow', 'ssp370': 'darkorange', 'ssp585': 'darkred'}"
   ]
  },
  {
   "cell_type": "markdown",
   "id": "07633b0b-5bdf-4d48-838d-c6f30a9ff364",
   "metadata": {},
   "source": [
    "### Individual plots: time series"
   ]
  },
  {
   "cell_type": "code",
   "execution_count": 25,
   "id": "9e95ece3-2eb8-4d45-9378-c46bdc2518bc",
   "metadata": {},
   "outputs": [
    {
     "data": {
      "image/png": "[encoded data removed]",
      "text/plain": [
       "<Figure size 324x216 with 1 Axes>"
      ]
     },
     "metadata": {
      "needs_background": "light"
     },
     "output_type": "display_data"
    }
   ],
   "source": [
    "def plot_uncorrected_timeseries(source_member,\n",
    "                                variable='R',\n",
    "                                experiments=['piControl', 'historical'],\n",
    "                                title=None, legend=True, label_mean=True,\n",
    "                                ax=None):\n",
    "    \"\"\"Plot uncorrected time series for variable and experiment(s).\"\"\"\n",
    "    # Create figure if ax=None\n",
    "    if not ax:\n",
    "        fig, ax = plt.subplots(1, 1, figsize=(4.5, 3))\n",
    "    # Loop over experiments (in reverse)\n",
    "    for exp in experiments[::-1]:\n",
    "        # Get uncorrected time series data\n",
    "        uncorr_da = da_dict[(source_member, exp, variable)].copy()\n",
    "        # For SSPs, show from 2015\n",
    "        if 'ssp' in exp:  # for SSPs\n",
    "            uncorr_da = uncorr_da.sel(time=slice(2015,2100))\n",
    "        # If mean is to be included in label, calculate it (before limiting piControl period)\n",
    "        if label_mean:\n",
    "            m = np.mean(uncorr_da.data)  # mean\n",
    "            sem = stats.sem(uncorr_da.data)  # standard error\n",
    "            label = f'{exp_dict[exp]} (uncorrected; {m:.3f}$\\pm${sem:.3f} {uncorr_da.attrs[\"units\"]})'\n",
    "        else:\n",
    "            label = f'{exp_dict[exp]} (uncorrected)'\n",
    "        # Shift piControl start to 1850 for ease of comparison?\n",
    "        if (exp == 'piControl') and ('historical' in experiments):\n",
    "            uncorr_da['time'] = uncorr_da['time'] - uncorr_da['time'][0] + 1850\n",
    "        # Limit x-axis and time series to 1850-2100 or 1850-2014?\n",
    "        if bool(set(['ssp126', 'ssp245', 'ssp370', 'ssp585']) & set(experiments)):\n",
    "            ax.set_xlim([1850, 2100])\n",
    "            uncorr_da = uncorr_da.sel(time=slice(1850,2100))\n",
    "        else:\n",
    "            ax.set_xlim([1850, 2014])\n",
    "            uncorr_da = uncorr_da.sel(time=slice(1850,2014))\n",
    "        # Plot time series\n",
    "        ax.plot(uncorr_da.time, uncorr_da, label=label, color=exp_c_dict[exp], alpha=1.0, linewidth=1.0)\n",
    "        # Labels, legend etc\n",
    "        ax.set_xlabel('Year')\n",
    "        ax.set_ylabel(f'${variable}$ ({uncorr_da.attrs[\"units\"]})')\n",
    "        ax.tick_params(right=True)\n",
    "        if title:\n",
    "            ax.set_title(title)\n",
    "        if legend:\n",
    "            ax.legend(fontsize='small')\n",
    "    return ax\n",
    "\n",
    "# Example\n",
    "source_member = source_member_list[-1]\n",
    "_ = plot_uncorrected_timeseries(source_member, variable='H', experiments=['piControl', 'historical'])"
   ]
  },
  {
   "cell_type": "code",
   "execution_count": 26,
   "id": "b21cf971-c93c-49aa-bd55-ea065901400e",
   "metadata": {},
   "outputs": [
    {
     "data": {
      "image/png": "[encoded data removed]",
      "text/plain": [
       "<Figure size 324x216 with 1 Axes>"
      ]
     },
     "metadata": {
      "needs_background": "light"
     },
     "output_type": "display_data"
    },
    {
     "data": {
      "image/png": "[encoded data removed]",
      "text/plain": [
       "<Figure size 324x216 with 1 Axes>"
      ]
     },
     "metadata": {
      "needs_background": "light"
     },
     "output_type": "display_data"
    }
   ],
   "source": [
    "def plot_pi_timeseries_with_trends_means(source_member,\n",
    "                                         variable='\\int R',\n",
    "                                         plot_trends=True,  # if False, plot means\n",
    "                                         sample_length=150, sample_n=500,\n",
    "                                         title=None, legend=True,\n",
    "                                         ax=None):\n",
    "    \"\"\"Plot piControl time series and trends or means.\"\"\"\n",
    "    # Create figure if ax=None\n",
    "    if not ax:\n",
    "        fig, ax = plt.subplots(1, 1, figsize=(4.5, 3))\n",
    "    # Input DataArray for piControl time series\n",
    "    pi_da = da_dict[(source_member, 'piControl', variable)].copy()\n",
    "    # Plot piControl time series\n",
    "    ax.plot(pi_da.time, pi_da, label='Control time series (uncorrected)', color='black', alpha=0.5, linewidth=0.7)\n",
    "    # Plot trend / mean based on full piControl time series, excluding standard error (traditional method)\n",
    "    if plot_trends:\n",
    "        full_pi_trend = calc_trend(pi_da, inc_rand_error=False)  # trend slope\n",
    "        trend_data = np.array([0, float(full_pi_trend*pi_da.time[-1].data)])  # trend line start & end \n",
    "        trend_data = trend_data - trend_data.mean() + pi_da.mean().data  # shift to same mean as pi_da\n",
    "        ax.plot(pi_da.time[[0,-1]], trend_data, color='darkgreen', label=f'Full {len(pi_da)} yr trend',\n",
    "                linewidth=0.5)\n",
    "    else:  # plot piConrol mean (ie bias for R and H)\n",
    "        full_pi_mean = calc_mean(pi_da, inc_rand_error=False)\n",
    "        ax.plot(pi_da.time[[0,-1]], [full_pi_mean,]*2, color='darkgreen', label=f'Full {len(pi_da)} yr bias',\n",
    "                linewidth=0.5)\n",
    "    # Plot trends / means based on random MCDC samples from piControl\n",
    "    trends_dict, means_dict, start_years = sample_pi_trends_means(source_member,\n",
    "                                                                  sample_length=sample_length,\n",
    "                                                                  sample_n=sample_n)\n",
    "    for i in range(sample_n):  # loop over samples\n",
    "        b = trends_dict[variable][i]\n",
    "        m = means_dict[variable][i]\n",
    "        s = start_years[i]\n",
    "        x_data = np.array([s, s+sample_length])  # time coverage of this trend/mean estimate\n",
    "        if plot_trends:  # plot trends\n",
    "            trend_data = np.array([b*x for x in x_data])  # trend line start & end; shifted to same mean below\n",
    "            trend_data = trend_data - trend_data.mean() + pi_da.sel(time=slice(x_data[0],x_data[1])).mean().data\n",
    "            if i == 0:  # add label to legend for only one sample\n",
    "                label = f'Trend samples (n = {sample_n})'\n",
    "            else:\n",
    "                label = None\n",
    "            ax.plot(x_data, trend_data, color='purple', label=label, alpha=0.3, linewidth=0.2)\n",
    "        else:  # plot means\n",
    "            if i == 0:\n",
    "                label = f'Bias samples (n = {sample_n})'\n",
    "            else:\n",
    "                label = None\n",
    "            ax.plot(x_data, [m,m], color='purple', label=label, alpha=0.3, linewidth=0.2)\n",
    "    # Labels, legend etc\n",
    "    ax.set_xlabel('Year')\n",
    "    ax.set_xlim(pi_da.time[[0,-1]])\n",
    "    ax.set_ylabel(f'${variable}$ ({pi_da.attrs[\"units\"]})')\n",
    "    ax.tick_params(right=True)\n",
    "    if title:\n",
    "        ax.set_title(title)\n",
    "    if legend:\n",
    "        leg = ax.legend(fontsize='small')\n",
    "        for lh in leg.legendHandles:\n",
    "            try:  # set min alpha in legend\n",
    "                if lh.get_alpha() < 0.5:\n",
    "                    lh.set_alpha(0.5)\n",
    "            except TypeError:\n",
    "                pass\n",
    "            try: # set min linewidth in legend\n",
    "                if lh.get_linewidth() < 0.5:\n",
    "                    lh.set_linewidth(0.5)\n",
    "            except TypeError:\n",
    "                pass\n",
    "    return ax\n",
    "\n",
    "# Example\n",
    "source_member = source_member_list[-1]\n",
    "_ = plot_pi_timeseries_with_trends_means(source_member, plot_trends=True)\n",
    "_ = plot_pi_timeseries_with_trends_means(source_member,\n",
    "                                         variable='R',\n",
    "                                         plot_trends=False)"
   ]
  },
  {
   "cell_type": "code",
   "execution_count": null,
   "id": "d185e4a5-f2c8-4810-a7fc-bc48fac72f52",
   "metadata": {},
   "outputs": [],
   "source": []
  },
  {
   "cell_type": "code",
   "execution_count": 27,
   "id": "dad4c065-7ab4-4ccd-a5cb-31663bbeac44",
   "metadata": {},
   "outputs": [
    {
     "name": "stdout",
     "output_type": "stream",
     "text": [
      "Thu Aug 18 10:56:19 +08 2022\n"
     ]
    }
   ],
   "source": [
    "! date"
   ]
  }
 ],
 "metadata": {
  "kernelspec": {
   "display_name": "Python 3 (ipykernel)",
   "language": "python",
   "name": "python3"
  },
  "language_info": {
   "codemirror_mode": {
    "name": "ipython",
    "version": 3
   },
   "file_extension": ".py",
   "mimetype": "text/x-python",
   "name": "python",
   "nbconvert_exporter": "python",
   "pygments_lexer": "ipython3",
   "version": "3.10.5"
  },
  "toc-autonumbering": false,
  "toc-showtags": false
 },
 "nbformat": 4,
 "nbformat_minor": 5
}
