{
 "cells": [
  {
   "cell_type": "markdown",
   "id": "e966cfb5",
   "metadata": {},
   "source": [
    "# data_d22a\n",
    "\n",
    "### Purpose\n",
    "Prepare CMIP6 data for Monte Carlo Drift Correction analysis within [d22a-mcdc](https://github.com/grandey/d22a-mcdc).\n",
    "\n",
    "### Input data requirements\n",
    "CMIP6 data that have been post-processed by [p22c-esgf-processing](https://github.com/grandey/p22c-esgf-processing).\n",
    "\n",
    "### Output data written\n",
    "NetCDF files in [data/](https://github.com/grandey/d22a-mcdc/tree/main/data/), each containing a global mean time series for a given variable, AOGCM variant, and experiment.\n",
    "\n",
    "### History\n",
    "BSG, 2022."
   ]
  },
  {
   "cell_type": "code",
   "execution_count": 1,
   "id": "f724a081",
   "metadata": {},
   "outputs": [
    {
     "name": "stdout",
     "output_type": "stream",
     "text": [
      "Tue Aug 16 11:09:53 +08 2022\n"
     ]
    }
   ],
   "source": [
    "! date"
   ]
  },
  {
   "cell_type": "code",
   "execution_count": 2,
   "id": "4ec820c8",
   "metadata": {},
   "outputs": [],
   "source": [
    "from cdo import Cdo, CDOException\n",
    "import pandas as pd\n",
    "import pathlib\n",
    "import xarray as xr"
   ]
  },
  {
   "cell_type": "code",
   "execution_count": 3,
   "id": "3c6f6612",
   "metadata": {},
   "outputs": [],
   "source": [
    "# CDO tempdir\n",
    "cdo = Cdo(tempdir='temp')\n",
    "cdo.cleanTempDir()"
   ]
  },
  {
   "cell_type": "code",
   "execution_count": 4,
   "id": "9f8fc21d",
   "metadata": {},
   "outputs": [
    {
     "name": "stdout",
     "output_type": "stream",
     "text": [
      "CDO version: 2.0.5\n",
      "cdo.py bindings version: 1.5.4\n",
      "xarray version: 2022.6.0\n"
     ]
    }
   ],
   "source": [
    "# Module versions\n",
    "print(f'CDO version: {cdo.version()}')\n",
    "print(f'cdo.py bindings version: {cdo.__version__()}')\n",
    "print(f'xarray version: {xr.__version__}')"
   ]
  },
  {
   "cell_type": "markdown",
   "id": "f6f98609",
   "metadata": {},
   "source": [
    "## Identify AOGCM variants (source-member pairs)"
   ]
  },
  {
   "cell_type": "code",
   "execution_count": 5,
   "id": "7f631536",
   "metadata": {},
   "outputs": [
    {
     "name": "stdout",
     "output_type": "stream",
     "text": [
      "21 source-member pairs identified.\n"
     ]
    },
    {
     "data": {
      "text/plain": [
       "['ACCESS-CM2_r1i1p1f1',\n",
       " 'ACCESS-ESM1-5_r1i1p1f1',\n",
       " 'CMCC-CM2-SR5_r1i1p1f1',\n",
       " 'CMCC-ESM2_r1i1p1f1',\n",
       " 'CNRM-CM6-1_r1i1p1f2',\n",
       " 'CNRM-ESM2-1_r1i1p1f2',\n",
       " 'CanESM5_r1i1p1f1',\n",
       " 'CanESM5_r1i1p2f1',\n",
       " 'EC-Earth3-Veg-LR_r1i1p1f1',\n",
       " 'EC-Earth3-Veg_r1i1p1f1',\n",
       " 'EC-Earth3_r1i1p1f1',\n",
       " 'GISS-E2-1-G_r1i1p5f1',\n",
       " 'GISS-E2-1-H_r1i1p1f2',\n",
       " 'IPSL-CM6A-LR_r1i1p1f1',\n",
       " 'MIROC6_r1i1p1f1',\n",
       " 'MPI-ESM1-2-HR_r1i1p1f1',\n",
       " 'MPI-ESM1-2-LR_r1i1p1f1',\n",
       " 'MRI-ESM2-0_r1i1p1f1',\n",
       " 'NorESM2-LM_r1i1p1f1',\n",
       " 'NorESM2-MM_r1i1p1f1',\n",
       " 'UKESM1-0-LL_r1i1p1f2']"
      ]
     },
     "execution_count": 5,
     "metadata": {},
     "output_type": "execute_result"
    }
   ],
   "source": [
    "# Location of regrid_missto0_yearmean_fldmean data produced by p22c-esgf-processing\n",
    "in_base = pathlib.Path('~/Data/p22c/CMIP6/regrid_missto0_yearmean_fldmean/').expanduser()\n",
    "\n",
    "# Core variables required\n",
    "core_var_list = ['rsdt', 'rsut', 'rlut', # R = rsdt-rsut-rlut\n",
    "                 'hfds',  # H (without flux correction)\n",
    "                 'zostoga']  # Z\n",
    "\n",
    "# Experiments required (with corresponding names)\n",
    "exp_dict = {'piControl': 'Control', 'historical': 'Historical',\n",
    "            'ssp126': 'SSP1-2.6', 'ssp245': 'SSP2-4.5',\n",
    "            'ssp370': 'SSP3-7.0', 'ssp585': 'SSP5-8.5'}\n",
    "\n",
    "# Identify source-member pairs to use\n",
    "source_member_list = sorted([d.name for d in in_base.glob(f'rsdt/[!.]*_*')])  # this list will be reduced\n",
    "for source_member in source_member_list.copy():  # loop over copy of source-member pairs to check data availability\n",
    "    for var in core_var_list:  # loop over required variables\n",
    "        for exp in exp_dict.keys():  # loop over experiments\n",
    "            in_fns = sorted(in_base.glob(f'{var}/{source_member}/*.{exp}.*/*.nc'))\n",
    "            if len(in_fns) == 0:  # if input files for this experiment do not exist...\n",
    "                try:\n",
    "                    source_member_list.remove(source_member)  # ... do not use this source-member pair\n",
    "                except ValueError:  # when source-member pair has previously been removed\n",
    "                    pass\n",
    "\n",
    "print(f'{len(source_member_list)} source-member pairs identified.')\n",
    "source_member_list"
   ]
  },
  {
   "cell_type": "code",
   "execution_count": 6,
   "id": "054ad903",
   "metadata": {},
   "outputs": [
    {
     "name": "stdout",
     "output_type": "stream",
     "text": [
      "Dropping CanESM5_r1i1p2f1.\n",
      "20 source-member pairs remain.\n"
     ]
    },
    {
     "data": {
      "text/plain": [
       "['ACCESS-CM2_r1i1p1f1',\n",
       " 'ACCESS-ESM1-5_r1i1p1f1',\n",
       " 'CMCC-CM2-SR5_r1i1p1f1',\n",
       " 'CMCC-ESM2_r1i1p1f1',\n",
       " 'CNRM-CM6-1_r1i1p1f2',\n",
       " 'CNRM-ESM2-1_r1i1p1f2',\n",
       " 'CanESM5_r1i1p1f1',\n",
       " 'EC-Earth3-Veg-LR_r1i1p1f1',\n",
       " 'EC-Earth3-Veg_r1i1p1f1',\n",
       " 'EC-Earth3_r1i1p1f1',\n",
       " 'GISS-E2-1-G_r1i1p5f1',\n",
       " 'GISS-E2-1-H_r1i1p1f2',\n",
       " 'IPSL-CM6A-LR_r1i1p1f1',\n",
       " 'MIROC6_r1i1p1f1',\n",
       " 'MPI-ESM1-2-HR_r1i1p1f1',\n",
       " 'MPI-ESM1-2-LR_r1i1p1f1',\n",
       " 'MRI-ESM2-0_r1i1p1f1',\n",
       " 'NorESM2-LM_r1i1p1f1',\n",
       " 'NorESM2-MM_r1i1p1f1',\n",
       " 'UKESM1-0-LL_r1i1p1f2']"
      ]
     },
     "execution_count": 6,
     "metadata": {},
     "output_type": "execute_result"
    }
   ],
   "source": [
    "# Limit to one variant per source AOGCM\n",
    "source_list = []\n",
    "for source_member in source_member_list.copy():\n",
    "    source = source_member.split('_')[0]\n",
    "    if source not in source_list:\n",
    "        source_list.append(source)\n",
    "    else:\n",
    "        print(f'Dropping {source_member}.')\n",
    "        source_member_list.remove(source_member)\n",
    "        \n",
    "print(f'{len(source_member_list)} source-member pairs remain.')\n",
    "source_member_list"
   ]
  },
  {
   "cell_type": "markdown",
   "id": "e7c43dd9",
   "metadata": {},
   "source": [
    "## Merge input data files across time using CDO"
   ]
  },
  {
   "cell_type": "code",
   "execution_count": 7,
   "id": "38cf7780",
   "metadata": {},
   "outputs": [],
   "source": [
    "# Location in which to write output NetCDF files\n",
    "out_base = pathlib.Path.cwd() / 'data'\n",
    "out_base.mkdir(exist_ok=True)"
   ]
  },
  {
   "cell_type": "code",
   "execution_count": 8,
   "id": "b5d30f73",
   "metadata": {},
   "outputs": [],
   "source": [
    "# Function to merge global mean files across time\n",
    "def mergetime_using_cdo(\n",
    "        variable='zostoga',\n",
    "        experiments=['piControl', 'historical', 'ssp126', 'ssp245', 'ssp370', 'ssp585'],\n",
    "        source_member_list=['ACCESS-CM2_r1i1p1f1',],\n",
    "        force=False):\n",
    "    # Lists to hold names of files skipped (due to already existing) and files written\n",
    "    skipped_list = []\n",
    "    written_list = []\n",
    "    # Loop over source-member pairs\n",
    "    for source_member in source_member_list:\n",
    "        # Output directory name\n",
    "        out_dir = out_base.joinpath(f'{in_base.name}_mergetime/{variable}/{source_member}/')\n",
    "        # Loop over experiments\n",
    "        for exp in experiments:\n",
    "            # Input data directory\n",
    "            in_dir_list = sorted(in_base.glob(f'{variable}/{source_member}/*.{exp}.*'))\n",
    "            if len(in_dir_list) == 0:\n",
    "                continue  # skip\n",
    "            elif len(in_dir_list) > 1:\n",
    "                print(f'Warning: {len(in_dir_list)} input directories found for {source_member} {exp} {variable}')\n",
    "            in_dir = in_dir_list[-1]\n",
    "            # Input files\n",
    "            in_fn_list = sorted([str(f) for f in in_dir.glob(f'*.nc')])\n",
    "            # Has at least one input file been found?\n",
    "            if len(in_fn_list) == 0:\n",
    "                continue\n",
    "            # If SSP, check for historical experiment file before proceeding\n",
    "            if 'ssp' in exp:\n",
    "                hist_fn = out_dir.joinpath(f'{variable}_{source_member}_historical.mergetime.nc')\n",
    "                if not hist_fn.exists():\n",
    "                    print(f'{variable}: historical file {hist_fn.name} not found')\n",
    "                    continue\n",
    "            # Make output directory\n",
    "            out_dir.mkdir(exist_ok=True, parents=True)\n",
    "            # Output filename\n",
    "            out_fn = out_dir.joinpath(f'{variable}_{source_member}_{exp}.mergetime.nc')\n",
    "            # Does the output file already exist?\n",
    "            if out_fn.exists() and not force:\n",
    "                skipped_list.append(out_fn)\n",
    "                continue\n",
    "            # Use CDO to merge files (if necessary), and use absolute time axis\n",
    "            # piControl and historical: merge all available files\n",
    "            if exp in ['piControl', 'historical']:\n",
    "                _ = cdo.mergetime(input=f'{\" \".join(in_fn_list)}', output=f'{out_fn}',\n",
    "                                  options='-a -f nc', env={\"SKIP_SAME_TIME\": \"1\"})\n",
    "            # SSPs: also merge with historical to create single time series\n",
    "            elif 'ssp' in exp:       \n",
    "                # Merge, including with historical\n",
    "                hist_fn = out_dir.joinpath(f'{variable}_{source_member}_historical.mergetime.nc')\n",
    "                _ = cdo.mergetime(input=f'{hist_fn} {\" \".join(in_fn_list)}', output=f'{out_fn}',\n",
    "                                  options='-a -f nc', env={\"SKIP_SAME_TIME\": \"1\"})\n",
    "            else:\n",
    "                print(f'exp=\"{exp}\" not recognised')\n",
    "            # Has output file been written?\n",
    "            if out_fn.exists():\n",
    "                written_list.append(out_fn)\n",
    "            else:\n",
    "                print(f'Failed to write {out_fn.name}')\n",
    "    # Print summary\n",
    "    print(f'{variable}: written {len(written_list)} files; skipped {len(skipped_list)} existing files')\n",
    "    # Return sorted list of files written and skipped\n",
    "    return sorted(written_list + skipped_list)"
   ]
  },
  {
   "cell_type": "code",
   "execution_count": 9,
   "id": "466da8fa",
   "metadata": {},
   "outputs": [
    {
     "name": "stdout",
     "output_type": "stream",
     "text": [
      "rsdt: written 0 files; skipped 120 existing files\n",
      "rsut: written 0 files; skipped 120 existing files\n",
      "rlut: written 0 files; skipped 120 existing files\n",
      "hfds: written 0 files; skipped 120 existing files\n",
      "zostoga: written 0 files; skipped 120 existing files\n",
      "hfcorr: written 0 files; skipped 6 existing files\n",
      "CPU times: user 89.2 ms, sys: 31.5 ms, total: 121 ms\n",
      "Wall time: 121 ms\n"
     ]
    }
   ],
   "source": [
    "%%time\n",
    "# Apply mergetime_using_cdo() to merge files of interest\n",
    "# Core variables\n",
    "for var in core_var_list:\n",
    "    _ = mergetime_using_cdo(variable=var,\n",
    "                            experiments=exp_dict.keys(),\n",
    "                            source_member_list=source_member_list,\n",
    "                            force=False)\n",
    "\n",
    "# Non-zero hfcorr exists only for MRI-ESM2-0_r1i1p1f1\n",
    "_ = mergetime_using_cdo(variable='hfcorr',\n",
    "                        experiments=exp_dict.keys(),\n",
    "                        source_member_list=['MRI-ESM2-0_r1i1p1f1',],\n",
    "                        force=False)"
   ]
  },
  {
   "cell_type": "markdown",
   "id": "2812d1f6-1b31-4226-ada1-26c64b5308a8",
   "metadata": {},
   "source": [
    "## Total area of earth\n",
    "Required by mcdc_analysis_d22a.ipynb."
   ]
  },
  {
   "cell_type": "code",
   "execution_count": 10,
   "id": "e47524cd-c49e-4d94-a70b-e11d8dd36c62",
   "metadata": {},
   "outputs": [],
   "source": [
    "# Location regrid_missto0_yearmean data produced by p22c-esgf-processing\n",
    "in_base2 = pathlib.Path('~/Data/p22c/CMIP6/regrid_missto0_yearmean/').expanduser()"
   ]
  },
  {
   "cell_type": "code",
   "execution_count": 11,
   "id": "84105517-a9c1-4324-aee8-70ed759d06fe",
   "metadata": {},
   "outputs": [
    {
     "name": "stdout",
     "output_type": "stream",
     "text": [
      "CPU times: user 188 ms, sys: 641 ms, total: 829 ms\n",
      "Wall time: 9.32 s\n"
     ]
    },
    {
     "data": {
      "text/plain": [
       "ACCESS-CM2_r1i1p1f1          5.100645e+14\n",
       "ACCESS-ESM1-5_r1i1p1f1       5.100645e+14\n",
       "CMCC-CM2-SR5_r1i1p1f1        5.100645e+14\n",
       "CMCC-ESM2_r1i1p1f1           5.100645e+14\n",
       "CNRM-CM6-1_r1i1p1f2          5.100645e+14\n",
       "CNRM-ESM2-1_r1i1p1f2         5.100645e+14\n",
       "CanESM5_r1i1p1f1             5.100645e+14\n",
       "EC-Earth3-Veg-LR_r1i1p1f1    5.100645e+14\n",
       "EC-Earth3-Veg_r1i1p1f1       5.100645e+14\n",
       "EC-Earth3_r1i1p1f1           5.100645e+14\n",
       "GISS-E2-1-G_r1i1p5f1         5.100645e+14\n",
       "GISS-E2-1-H_r1i1p1f2         5.100645e+14\n",
       "IPSL-CM6A-LR_r1i1p1f1        5.100645e+14\n",
       "MIROC6_r1i1p1f1              5.100645e+14\n",
       "MPI-ESM1-2-HR_r1i1p1f1       5.100645e+14\n",
       "MPI-ESM1-2-LR_r1i1p1f1       5.100645e+14\n",
       "MRI-ESM2-0_r1i1p1f1          5.100645e+14\n",
       "NorESM2-LM_r1i1p1f1          5.100645e+14\n",
       "NorESM2-MM_r1i1p1f1          5.100645e+14\n",
       "UKESM1-0-LL_r1i1p1f2         5.100645e+14\n",
       "Name: area_earth, dtype: float64"
      ]
     },
     "execution_count": 11,
     "metadata": {},
     "output_type": "execute_result"
    }
   ],
   "source": [
    "%%time\n",
    "# Series to hold total area for each source-member pair\n",
    "area_ser = pd.Series(dtype='float64', name='area_earth')\n",
    "# Use rsdt file from historical experiment\n",
    "var = 'rsdt'\n",
    "exp = 'historical'\n",
    "# Loop over source-member pairs\n",
    "for source_member in source_member_list:\n",
    "    # Calculate total area using CDO\n",
    "    in_fn = list(in_base2.glob(f'{var}/{source_member}/*{exp}*/*.nc'))[0]\n",
    "    area_earth_fn = cdo.fldsum(input=f'-gridarea {in_fn}')  # CDO temp file\n",
    "    area_earth = xr.open_dataset(area_earth_fn)['cell_area'].data.flatten()[0]\n",
    "    # Save to Series\n",
    "    area_ser[source_member] = area_earth\n",
    "\n",
    "# Print output\n",
    "area_ser"
   ]
  },
  {
   "cell_type": "code",
   "execution_count": 12,
   "id": "73f88734-d984-487c-8800-7237138ff5cd",
   "metadata": {},
   "outputs": [
    {
     "name": "stdout",
     "output_type": "stream",
     "text": [
      "Written area_earth.csv\n"
     ]
    }
   ],
   "source": [
    "# Save to CSV\n",
    "out_fn = out_base.joinpath('area_earth.csv')\n",
    "area_ser.to_csv(out_fn, index_label='source_member')\n",
    "print(f'Written {out_fn.name}')"
   ]
  },
  {
   "cell_type": "code",
   "execution_count": 13,
   "id": "12a30ac1",
   "metadata": {},
   "outputs": [
    {
     "name": "stdout",
     "output_type": "stream",
     "text": [
      "Tue Aug 16 11:10:04 +08 2022\n"
     ]
    }
   ],
   "source": [
    "! date"
   ]
  }
 ],
 "metadata": {
  "kernelspec": {
   "display_name": "Python 3 (ipykernel)",
   "language": "python",
   "name": "python3"
  },
  "language_info": {
   "codemirror_mode": {
    "name": "ipython",
    "version": 3
   },
   "file_extension": ".py",
   "mimetype": "text/x-python",
   "name": "python",
   "nbconvert_exporter": "python",
   "pygments_lexer": "ipython3",
   "version": "3.10.5"
  }
 },
 "nbformat": 4,
 "nbformat_minor": 5
}
